{
  "nbformat": 4,
  "nbformat_minor": 0,
  "metadata": {
    "colab": {
      "name": "Copy of image_classification_assignment_spring2020.ipynb",
      "provenance": [],
      "collapsed_sections": [
        "z-__RAO5t53G",
        "Y5AUSc3jufKi",
        "kAnNmPITrrlW",
        "FiEFrfUWvLry",
        "3m-9F6pE3Hne"
      ]
    },
    "kernelspec": {
      "name": "python3",
      "display_name": "Python 3"
    },
    "widgets": {
      "application/vnd.jupyter.widget-state+json": {
        "5b824b423099482ab1682538463f8795": {
          "model_module": "@jupyter-widgets/controls",
          "model_name": "HBoxModel",
          "state": {
            "_view_name": "HBoxView",
            "_dom_classes": [],
            "_model_name": "HBoxModel",
            "_view_module": "@jupyter-widgets/controls",
            "_model_module_version": "1.5.0",
            "_view_count": null,
            "_view_module_version": "1.5.0",
            "box_style": "",
            "layout": "IPY_MODEL_894723723b0947b0b7d531f49914d11d",
            "_model_module": "@jupyter-widgets/controls",
            "children": [
              "IPY_MODEL_8a56ee8ebb264d07a57fde9e4d319f3f",
              "IPY_MODEL_916ff606a5ff4f46969e4469034a6b0c"
            ]
          }
        },
        "894723723b0947b0b7d531f49914d11d": {
          "model_module": "@jupyter-widgets/base",
          "model_name": "LayoutModel",
          "state": {
            "_view_name": "LayoutView",
            "grid_template_rows": null,
            "right": null,
            "justify_content": null,
            "_view_module": "@jupyter-widgets/base",
            "overflow": null,
            "_model_module_version": "1.2.0",
            "_view_count": null,
            "flex_flow": null,
            "width": null,
            "min_width": null,
            "border": null,
            "align_items": null,
            "bottom": null,
            "_model_module": "@jupyter-widgets/base",
            "top": null,
            "grid_column": null,
            "overflow_y": null,
            "overflow_x": null,
            "grid_auto_flow": null,
            "grid_area": null,
            "grid_template_columns": null,
            "flex": null,
            "_model_name": "LayoutModel",
            "justify_items": null,
            "grid_row": null,
            "max_height": null,
            "align_content": null,
            "visibility": null,
            "align_self": null,
            "height": null,
            "min_height": null,
            "padding": null,
            "grid_auto_rows": null,
            "grid_gap": null,
            "max_width": null,
            "order": null,
            "_view_module_version": "1.2.0",
            "grid_template_areas": null,
            "object_position": null,
            "object_fit": null,
            "grid_auto_columns": null,
            "margin": null,
            "display": null,
            "left": null
          }
        },
        "8a56ee8ebb264d07a57fde9e4d319f3f": {
          "model_module": "@jupyter-widgets/controls",
          "model_name": "IntProgressModel",
          "state": {
            "_view_name": "ProgressView",
            "style": "IPY_MODEL_6f8a808b974943548ac29dd829a68ff2",
            "_dom_classes": [],
            "description": "",
            "_model_name": "IntProgressModel",
            "bar_style": "success",
            "max": 1,
            "_view_module": "@jupyter-widgets/controls",
            "_model_module_version": "1.5.0",
            "value": 1,
            "_view_count": null,
            "_view_module_version": "1.5.0",
            "orientation": "horizontal",
            "min": 0,
            "description_tooltip": null,
            "_model_module": "@jupyter-widgets/controls",
            "layout": "IPY_MODEL_f741b7f5d85542ef8d59f9905b62e019"
          }
        },
        "916ff606a5ff4f46969e4469034a6b0c": {
          "model_module": "@jupyter-widgets/controls",
          "model_name": "HTMLModel",
          "state": {
            "_view_name": "HTMLView",
            "style": "IPY_MODEL_bfffd9d090304ff99e75e116365eb133",
            "_dom_classes": [],
            "description": "",
            "_model_name": "HTMLModel",
            "placeholder": "​",
            "_view_module": "@jupyter-widgets/controls",
            "_model_module_version": "1.5.0",
            "value": "26427392it [00:01, 13414908.24it/s]",
            "_view_count": null,
            "_view_module_version": "1.5.0",
            "description_tooltip": null,
            "_model_module": "@jupyter-widgets/controls",
            "layout": "IPY_MODEL_1d2d1a173f014160a37a3af08f6380a8"
          }
        },
        "6f8a808b974943548ac29dd829a68ff2": {
          "model_module": "@jupyter-widgets/controls",
          "model_name": "ProgressStyleModel",
          "state": {
            "_view_name": "StyleView",
            "_model_name": "ProgressStyleModel",
            "description_width": "",
            "_view_module": "@jupyter-widgets/base",
            "_model_module_version": "1.5.0",
            "_view_count": null,
            "_view_module_version": "1.2.0",
            "bar_color": null,
            "_model_module": "@jupyter-widgets/controls"
          }
        },
        "f741b7f5d85542ef8d59f9905b62e019": {
          "model_module": "@jupyter-widgets/base",
          "model_name": "LayoutModel",
          "state": {
            "_view_name": "LayoutView",
            "grid_template_rows": null,
            "right": null,
            "justify_content": null,
            "_view_module": "@jupyter-widgets/base",
            "overflow": null,
            "_model_module_version": "1.2.0",
            "_view_count": null,
            "flex_flow": null,
            "width": null,
            "min_width": null,
            "border": null,
            "align_items": null,
            "bottom": null,
            "_model_module": "@jupyter-widgets/base",
            "top": null,
            "grid_column": null,
            "overflow_y": null,
            "overflow_x": null,
            "grid_auto_flow": null,
            "grid_area": null,
            "grid_template_columns": null,
            "flex": null,
            "_model_name": "LayoutModel",
            "justify_items": null,
            "grid_row": null,
            "max_height": null,
            "align_content": null,
            "visibility": null,
            "align_self": null,
            "height": null,
            "min_height": null,
            "padding": null,
            "grid_auto_rows": null,
            "grid_gap": null,
            "max_width": null,
            "order": null,
            "_view_module_version": "1.2.0",
            "grid_template_areas": null,
            "object_position": null,
            "object_fit": null,
            "grid_auto_columns": null,
            "margin": null,
            "display": null,
            "left": null
          }
        },
        "bfffd9d090304ff99e75e116365eb133": {
          "model_module": "@jupyter-widgets/controls",
          "model_name": "DescriptionStyleModel",
          "state": {
            "_view_name": "StyleView",
            "_model_name": "DescriptionStyleModel",
            "description_width": "",
            "_view_module": "@jupyter-widgets/base",
            "_model_module_version": "1.5.0",
            "_view_count": null,
            "_view_module_version": "1.2.0",
            "_model_module": "@jupyter-widgets/controls"
          }
        },
        "1d2d1a173f014160a37a3af08f6380a8": {
          "model_module": "@jupyter-widgets/base",
          "model_name": "LayoutModel",
          "state": {
            "_view_name": "LayoutView",
            "grid_template_rows": null,
            "right": null,
            "justify_content": null,
            "_view_module": "@jupyter-widgets/base",
            "overflow": null,
            "_model_module_version": "1.2.0",
            "_view_count": null,
            "flex_flow": null,
            "width": null,
            "min_width": null,
            "border": null,
            "align_items": null,
            "bottom": null,
            "_model_module": "@jupyter-widgets/base",
            "top": null,
            "grid_column": null,
            "overflow_y": null,
            "overflow_x": null,
            "grid_auto_flow": null,
            "grid_area": null,
            "grid_template_columns": null,
            "flex": null,
            "_model_name": "LayoutModel",
            "justify_items": null,
            "grid_row": null,
            "max_height": null,
            "align_content": null,
            "visibility": null,
            "align_self": null,
            "height": null,
            "min_height": null,
            "padding": null,
            "grid_auto_rows": null,
            "grid_gap": null,
            "max_width": null,
            "order": null,
            "_view_module_version": "1.2.0",
            "grid_template_areas": null,
            "object_position": null,
            "object_fit": null,
            "grid_auto_columns": null,
            "margin": null,
            "display": null,
            "left": null
          }
        },
        "69678154d1f9407294e45e034181e521": {
          "model_module": "@jupyter-widgets/controls",
          "model_name": "HBoxModel",
          "state": {
            "_view_name": "HBoxView",
            "_dom_classes": [],
            "_model_name": "HBoxModel",
            "_view_module": "@jupyter-widgets/controls",
            "_model_module_version": "1.5.0",
            "_view_count": null,
            "_view_module_version": "1.5.0",
            "box_style": "",
            "layout": "IPY_MODEL_da37cdee1ae24c26ae087c783b584036",
            "_model_module": "@jupyter-widgets/controls",
            "children": [
              "IPY_MODEL_95fe2c327a104d4b9c3f9ceddd4c8a11",
              "IPY_MODEL_5da285b31a0641d59c7fa67e464363a3"
            ]
          }
        },
        "da37cdee1ae24c26ae087c783b584036": {
          "model_module": "@jupyter-widgets/base",
          "model_name": "LayoutModel",
          "state": {
            "_view_name": "LayoutView",
            "grid_template_rows": null,
            "right": null,
            "justify_content": null,
            "_view_module": "@jupyter-widgets/base",
            "overflow": null,
            "_model_module_version": "1.2.0",
            "_view_count": null,
            "flex_flow": null,
            "width": null,
            "min_width": null,
            "border": null,
            "align_items": null,
            "bottom": null,
            "_model_module": "@jupyter-widgets/base",
            "top": null,
            "grid_column": null,
            "overflow_y": null,
            "overflow_x": null,
            "grid_auto_flow": null,
            "grid_area": null,
            "grid_template_columns": null,
            "flex": null,
            "_model_name": "LayoutModel",
            "justify_items": null,
            "grid_row": null,
            "max_height": null,
            "align_content": null,
            "visibility": null,
            "align_self": null,
            "height": null,
            "min_height": null,
            "padding": null,
            "grid_auto_rows": null,
            "grid_gap": null,
            "max_width": null,
            "order": null,
            "_view_module_version": "1.2.0",
            "grid_template_areas": null,
            "object_position": null,
            "object_fit": null,
            "grid_auto_columns": null,
            "margin": null,
            "display": null,
            "left": null
          }
        },
        "95fe2c327a104d4b9c3f9ceddd4c8a11": {
          "model_module": "@jupyter-widgets/controls",
          "model_name": "IntProgressModel",
          "state": {
            "_view_name": "ProgressView",
            "style": "IPY_MODEL_dbcabe46133349179bed149996929179",
            "_dom_classes": [],
            "description": "",
            "_model_name": "IntProgressModel",
            "bar_style": "success",
            "max": 1,
            "_view_module": "@jupyter-widgets/controls",
            "_model_module_version": "1.5.0",
            "value": 1,
            "_view_count": null,
            "_view_module_version": "1.5.0",
            "orientation": "horizontal",
            "min": 0,
            "description_tooltip": null,
            "_model_module": "@jupyter-widgets/controls",
            "layout": "IPY_MODEL_b6d91ba8a31845d6b22a7700588ce3f4"
          }
        },
        "5da285b31a0641d59c7fa67e464363a3": {
          "model_module": "@jupyter-widgets/controls",
          "model_name": "HTMLModel",
          "state": {
            "_view_name": "HTMLView",
            "style": "IPY_MODEL_eaf70be039b84faaa62390192489d9ce",
            "_dom_classes": [],
            "description": "",
            "_model_name": "HTMLModel",
            "placeholder": "​",
            "_view_module": "@jupyter-widgets/controls",
            "_model_module_version": "1.5.0",
            "value": "32768it [00:00, 83515.04it/s]",
            "_view_count": null,
            "_view_module_version": "1.5.0",
            "description_tooltip": null,
            "_model_module": "@jupyter-widgets/controls",
            "layout": "IPY_MODEL_db419652f66e416fa66291a1c1165c93"
          }
        },
        "dbcabe46133349179bed149996929179": {
          "model_module": "@jupyter-widgets/controls",
          "model_name": "ProgressStyleModel",
          "state": {
            "_view_name": "StyleView",
            "_model_name": "ProgressStyleModel",
            "description_width": "",
            "_view_module": "@jupyter-widgets/base",
            "_model_module_version": "1.5.0",
            "_view_count": null,
            "_view_module_version": "1.2.0",
            "bar_color": null,
            "_model_module": "@jupyter-widgets/controls"
          }
        },
        "b6d91ba8a31845d6b22a7700588ce3f4": {
          "model_module": "@jupyter-widgets/base",
          "model_name": "LayoutModel",
          "state": {
            "_view_name": "LayoutView",
            "grid_template_rows": null,
            "right": null,
            "justify_content": null,
            "_view_module": "@jupyter-widgets/base",
            "overflow": null,
            "_model_module_version": "1.2.0",
            "_view_count": null,
            "flex_flow": null,
            "width": null,
            "min_width": null,
            "border": null,
            "align_items": null,
            "bottom": null,
            "_model_module": "@jupyter-widgets/base",
            "top": null,
            "grid_column": null,
            "overflow_y": null,
            "overflow_x": null,
            "grid_auto_flow": null,
            "grid_area": null,
            "grid_template_columns": null,
            "flex": null,
            "_model_name": "LayoutModel",
            "justify_items": null,
            "grid_row": null,
            "max_height": null,
            "align_content": null,
            "visibility": null,
            "align_self": null,
            "height": null,
            "min_height": null,
            "padding": null,
            "grid_auto_rows": null,
            "grid_gap": null,
            "max_width": null,
            "order": null,
            "_view_module_version": "1.2.0",
            "grid_template_areas": null,
            "object_position": null,
            "object_fit": null,
            "grid_auto_columns": null,
            "margin": null,
            "display": null,
            "left": null
          }
        },
        "eaf70be039b84faaa62390192489d9ce": {
          "model_module": "@jupyter-widgets/controls",
          "model_name": "DescriptionStyleModel",
          "state": {
            "_view_name": "StyleView",
            "_model_name": "DescriptionStyleModel",
            "description_width": "",
            "_view_module": "@jupyter-widgets/base",
            "_model_module_version": "1.5.0",
            "_view_count": null,
            "_view_module_version": "1.2.0",
            "_model_module": "@jupyter-widgets/controls"
          }
        },
        "db419652f66e416fa66291a1c1165c93": {
          "model_module": "@jupyter-widgets/base",
          "model_name": "LayoutModel",
          "state": {
            "_view_name": "LayoutView",
            "grid_template_rows": null,
            "right": null,
            "justify_content": null,
            "_view_module": "@jupyter-widgets/base",
            "overflow": null,
            "_model_module_version": "1.2.0",
            "_view_count": null,
            "flex_flow": null,
            "width": null,
            "min_width": null,
            "border": null,
            "align_items": null,
            "bottom": null,
            "_model_module": "@jupyter-widgets/base",
            "top": null,
            "grid_column": null,
            "overflow_y": null,
            "overflow_x": null,
            "grid_auto_flow": null,
            "grid_area": null,
            "grid_template_columns": null,
            "flex": null,
            "_model_name": "LayoutModel",
            "justify_items": null,
            "grid_row": null,
            "max_height": null,
            "align_content": null,
            "visibility": null,
            "align_self": null,
            "height": null,
            "min_height": null,
            "padding": null,
            "grid_auto_rows": null,
            "grid_gap": null,
            "max_width": null,
            "order": null,
            "_view_module_version": "1.2.0",
            "grid_template_areas": null,
            "object_position": null,
            "object_fit": null,
            "grid_auto_columns": null,
            "margin": null,
            "display": null,
            "left": null
          }
        },
        "be6b31c9e26c4d1d8a2322fa3b93027a": {
          "model_module": "@jupyter-widgets/controls",
          "model_name": "HBoxModel",
          "state": {
            "_view_name": "HBoxView",
            "_dom_classes": [],
            "_model_name": "HBoxModel",
            "_view_module": "@jupyter-widgets/controls",
            "_model_module_version": "1.5.0",
            "_view_count": null,
            "_view_module_version": "1.5.0",
            "box_style": "",
            "layout": "IPY_MODEL_38f2506bef4c4ca49e6d9959dd2ae002",
            "_model_module": "@jupyter-widgets/controls",
            "children": [
              "IPY_MODEL_17f86b7114a442a89359c5bc2d2e77ef",
              "IPY_MODEL_b0d7937242c045ae963e386957257457"
            ]
          }
        },
        "38f2506bef4c4ca49e6d9959dd2ae002": {
          "model_module": "@jupyter-widgets/base",
          "model_name": "LayoutModel",
          "state": {
            "_view_name": "LayoutView",
            "grid_template_rows": null,
            "right": null,
            "justify_content": null,
            "_view_module": "@jupyter-widgets/base",
            "overflow": null,
            "_model_module_version": "1.2.0",
            "_view_count": null,
            "flex_flow": null,
            "width": null,
            "min_width": null,
            "border": null,
            "align_items": null,
            "bottom": null,
            "_model_module": "@jupyter-widgets/base",
            "top": null,
            "grid_column": null,
            "overflow_y": null,
            "overflow_x": null,
            "grid_auto_flow": null,
            "grid_area": null,
            "grid_template_columns": null,
            "flex": null,
            "_model_name": "LayoutModel",
            "justify_items": null,
            "grid_row": null,
            "max_height": null,
            "align_content": null,
            "visibility": null,
            "align_self": null,
            "height": null,
            "min_height": null,
            "padding": null,
            "grid_auto_rows": null,
            "grid_gap": null,
            "max_width": null,
            "order": null,
            "_view_module_version": "1.2.0",
            "grid_template_areas": null,
            "object_position": null,
            "object_fit": null,
            "grid_auto_columns": null,
            "margin": null,
            "display": null,
            "left": null
          }
        },
        "17f86b7114a442a89359c5bc2d2e77ef": {
          "model_module": "@jupyter-widgets/controls",
          "model_name": "IntProgressModel",
          "state": {
            "_view_name": "ProgressView",
            "style": "IPY_MODEL_803ae704139643f1aead2dde0ea8fab9",
            "_dom_classes": [],
            "description": "",
            "_model_name": "IntProgressModel",
            "bar_style": "success",
            "max": 1,
            "_view_module": "@jupyter-widgets/controls",
            "_model_module_version": "1.5.0",
            "value": 1,
            "_view_count": null,
            "_view_module_version": "1.5.0",
            "orientation": "horizontal",
            "min": 0,
            "description_tooltip": null,
            "_model_module": "@jupyter-widgets/controls",
            "layout": "IPY_MODEL_75fd3dbd4a9b43aca29b1b1b7227e8fc"
          }
        },
        "b0d7937242c045ae963e386957257457": {
          "model_module": "@jupyter-widgets/controls",
          "model_name": "HTMLModel",
          "state": {
            "_view_name": "HTMLView",
            "style": "IPY_MODEL_d01bb5618efa4770aee853bd390a9439",
            "_dom_classes": [],
            "description": "",
            "_model_name": "HTMLModel",
            "placeholder": "​",
            "_view_module": "@jupyter-widgets/controls",
            "_model_module_version": "1.5.0",
            "value": "4423680it [00:01, 3917772.83it/s]",
            "_view_count": null,
            "_view_module_version": "1.5.0",
            "description_tooltip": null,
            "_model_module": "@jupyter-widgets/controls",
            "layout": "IPY_MODEL_8e6626af22d443f6aacb2f03489a8e4e"
          }
        },
        "803ae704139643f1aead2dde0ea8fab9": {
          "model_module": "@jupyter-widgets/controls",
          "model_name": "ProgressStyleModel",
          "state": {
            "_view_name": "StyleView",
            "_model_name": "ProgressStyleModel",
            "description_width": "",
            "_view_module": "@jupyter-widgets/base",
            "_model_module_version": "1.5.0",
            "_view_count": null,
            "_view_module_version": "1.2.0",
            "bar_color": null,
            "_model_module": "@jupyter-widgets/controls"
          }
        },
        "75fd3dbd4a9b43aca29b1b1b7227e8fc": {
          "model_module": "@jupyter-widgets/base",
          "model_name": "LayoutModel",
          "state": {
            "_view_name": "LayoutView",
            "grid_template_rows": null,
            "right": null,
            "justify_content": null,
            "_view_module": "@jupyter-widgets/base",
            "overflow": null,
            "_model_module_version": "1.2.0",
            "_view_count": null,
            "flex_flow": null,
            "width": null,
            "min_width": null,
            "border": null,
            "align_items": null,
            "bottom": null,
            "_model_module": "@jupyter-widgets/base",
            "top": null,
            "grid_column": null,
            "overflow_y": null,
            "overflow_x": null,
            "grid_auto_flow": null,
            "grid_area": null,
            "grid_template_columns": null,
            "flex": null,
            "_model_name": "LayoutModel",
            "justify_items": null,
            "grid_row": null,
            "max_height": null,
            "align_content": null,
            "visibility": null,
            "align_self": null,
            "height": null,
            "min_height": null,
            "padding": null,
            "grid_auto_rows": null,
            "grid_gap": null,
            "max_width": null,
            "order": null,
            "_view_module_version": "1.2.0",
            "grid_template_areas": null,
            "object_position": null,
            "object_fit": null,
            "grid_auto_columns": null,
            "margin": null,
            "display": null,
            "left": null
          }
        },
        "d01bb5618efa4770aee853bd390a9439": {
          "model_module": "@jupyter-widgets/controls",
          "model_name": "DescriptionStyleModel",
          "state": {
            "_view_name": "StyleView",
            "_model_name": "DescriptionStyleModel",
            "description_width": "",
            "_view_module": "@jupyter-widgets/base",
            "_model_module_version": "1.5.0",
            "_view_count": null,
            "_view_module_version": "1.2.0",
            "_model_module": "@jupyter-widgets/controls"
          }
        },
        "8e6626af22d443f6aacb2f03489a8e4e": {
          "model_module": "@jupyter-widgets/base",
          "model_name": "LayoutModel",
          "state": {
            "_view_name": "LayoutView",
            "grid_template_rows": null,
            "right": null,
            "justify_content": null,
            "_view_module": "@jupyter-widgets/base",
            "overflow": null,
            "_model_module_version": "1.2.0",
            "_view_count": null,
            "flex_flow": null,
            "width": null,
            "min_width": null,
            "border": null,
            "align_items": null,
            "bottom": null,
            "_model_module": "@jupyter-widgets/base",
            "top": null,
            "grid_column": null,
            "overflow_y": null,
            "overflow_x": null,
            "grid_auto_flow": null,
            "grid_area": null,
            "grid_template_columns": null,
            "flex": null,
            "_model_name": "LayoutModel",
            "justify_items": null,
            "grid_row": null,
            "max_height": null,
            "align_content": null,
            "visibility": null,
            "align_self": null,
            "height": null,
            "min_height": null,
            "padding": null,
            "grid_auto_rows": null,
            "grid_gap": null,
            "max_width": null,
            "order": null,
            "_view_module_version": "1.2.0",
            "grid_template_areas": null,
            "object_position": null,
            "object_fit": null,
            "grid_auto_columns": null,
            "margin": null,
            "display": null,
            "left": null
          }
        },
        "3e7820731c044e1bb4f7a6967ce8fb47": {
          "model_module": "@jupyter-widgets/controls",
          "model_name": "HBoxModel",
          "state": {
            "_view_name": "HBoxView",
            "_dom_classes": [],
            "_model_name": "HBoxModel",
            "_view_module": "@jupyter-widgets/controls",
            "_model_module_version": "1.5.0",
            "_view_count": null,
            "_view_module_version": "1.5.0",
            "box_style": "",
            "layout": "IPY_MODEL_fecfb176c89d4b4d81176ea2e8621dcc",
            "_model_module": "@jupyter-widgets/controls",
            "children": [
              "IPY_MODEL_e87e6fd00c2b49d5846695a53df1c24b",
              "IPY_MODEL_c97af7906da0431ebe61956a3c702799"
            ]
          }
        },
        "fecfb176c89d4b4d81176ea2e8621dcc": {
          "model_module": "@jupyter-widgets/base",
          "model_name": "LayoutModel",
          "state": {
            "_view_name": "LayoutView",
            "grid_template_rows": null,
            "right": null,
            "justify_content": null,
            "_view_module": "@jupyter-widgets/base",
            "overflow": null,
            "_model_module_version": "1.2.0",
            "_view_count": null,
            "flex_flow": null,
            "width": null,
            "min_width": null,
            "border": null,
            "align_items": null,
            "bottom": null,
            "_model_module": "@jupyter-widgets/base",
            "top": null,
            "grid_column": null,
            "overflow_y": null,
            "overflow_x": null,
            "grid_auto_flow": null,
            "grid_area": null,
            "grid_template_columns": null,
            "flex": null,
            "_model_name": "LayoutModel",
            "justify_items": null,
            "grid_row": null,
            "max_height": null,
            "align_content": null,
            "visibility": null,
            "align_self": null,
            "height": null,
            "min_height": null,
            "padding": null,
            "grid_auto_rows": null,
            "grid_gap": null,
            "max_width": null,
            "order": null,
            "_view_module_version": "1.2.0",
            "grid_template_areas": null,
            "object_position": null,
            "object_fit": null,
            "grid_auto_columns": null,
            "margin": null,
            "display": null,
            "left": null
          }
        },
        "e87e6fd00c2b49d5846695a53df1c24b": {
          "model_module": "@jupyter-widgets/controls",
          "model_name": "IntProgressModel",
          "state": {
            "_view_name": "ProgressView",
            "style": "IPY_MODEL_9b4abd7c027847938d4c4d334cc92f5d",
            "_dom_classes": [],
            "description": "",
            "_model_name": "IntProgressModel",
            "bar_style": "success",
            "max": 1,
            "_view_module": "@jupyter-widgets/controls",
            "_model_module_version": "1.5.0",
            "value": 1,
            "_view_count": null,
            "_view_module_version": "1.5.0",
            "orientation": "horizontal",
            "min": 0,
            "description_tooltip": null,
            "_model_module": "@jupyter-widgets/controls",
            "layout": "IPY_MODEL_7e15c2af1fe845ffa2cec833b8a9071c"
          }
        },
        "c97af7906da0431ebe61956a3c702799": {
          "model_module": "@jupyter-widgets/controls",
          "model_name": "HTMLModel",
          "state": {
            "_view_name": "HTMLView",
            "style": "IPY_MODEL_fa4719bec6cd477dbbc88be0f955e5c2",
            "_dom_classes": [],
            "description": "",
            "_model_name": "HTMLModel",
            "placeholder": "​",
            "_view_module": "@jupyter-widgets/controls",
            "_model_module_version": "1.5.0",
            "value": "8192it [00:00, 26523.13it/s]",
            "_view_count": null,
            "_view_module_version": "1.5.0",
            "description_tooltip": null,
            "_model_module": "@jupyter-widgets/controls",
            "layout": "IPY_MODEL_94c62208fb774c29a344ed7f875e9e7f"
          }
        },
        "9b4abd7c027847938d4c4d334cc92f5d": {
          "model_module": "@jupyter-widgets/controls",
          "model_name": "ProgressStyleModel",
          "state": {
            "_view_name": "StyleView",
            "_model_name": "ProgressStyleModel",
            "description_width": "",
            "_view_module": "@jupyter-widgets/base",
            "_model_module_version": "1.5.0",
            "_view_count": null,
            "_view_module_version": "1.2.0",
            "bar_color": null,
            "_model_module": "@jupyter-widgets/controls"
          }
        },
        "7e15c2af1fe845ffa2cec833b8a9071c": {
          "model_module": "@jupyter-widgets/base",
          "model_name": "LayoutModel",
          "state": {
            "_view_name": "LayoutView",
            "grid_template_rows": null,
            "right": null,
            "justify_content": null,
            "_view_module": "@jupyter-widgets/base",
            "overflow": null,
            "_model_module_version": "1.2.0",
            "_view_count": null,
            "flex_flow": null,
            "width": null,
            "min_width": null,
            "border": null,
            "align_items": null,
            "bottom": null,
            "_model_module": "@jupyter-widgets/base",
            "top": null,
            "grid_column": null,
            "overflow_y": null,
            "overflow_x": null,
            "grid_auto_flow": null,
            "grid_area": null,
            "grid_template_columns": null,
            "flex": null,
            "_model_name": "LayoutModel",
            "justify_items": null,
            "grid_row": null,
            "max_height": null,
            "align_content": null,
            "visibility": null,
            "align_self": null,
            "height": null,
            "min_height": null,
            "padding": null,
            "grid_auto_rows": null,
            "grid_gap": null,
            "max_width": null,
            "order": null,
            "_view_module_version": "1.2.0",
            "grid_template_areas": null,
            "object_position": null,
            "object_fit": null,
            "grid_auto_columns": null,
            "margin": null,
            "display": null,
            "left": null
          }
        },
        "fa4719bec6cd477dbbc88be0f955e5c2": {
          "model_module": "@jupyter-widgets/controls",
          "model_name": "DescriptionStyleModel",
          "state": {
            "_view_name": "StyleView",
            "_model_name": "DescriptionStyleModel",
            "description_width": "",
            "_view_module": "@jupyter-widgets/base",
            "_model_module_version": "1.5.0",
            "_view_count": null,
            "_view_module_version": "1.2.0",
            "_model_module": "@jupyter-widgets/controls"
          }
        },
        "94c62208fb774c29a344ed7f875e9e7f": {
          "model_module": "@jupyter-widgets/base",
          "model_name": "LayoutModel",
          "state": {
            "_view_name": "LayoutView",
            "grid_template_rows": null,
            "right": null,
            "justify_content": null,
            "_view_module": "@jupyter-widgets/base",
            "overflow": null,
            "_model_module_version": "1.2.0",
            "_view_count": null,
            "flex_flow": null,
            "width": null,
            "min_width": null,
            "border": null,
            "align_items": null,
            "bottom": null,
            "_model_module": "@jupyter-widgets/base",
            "top": null,
            "grid_column": null,
            "overflow_y": null,
            "overflow_x": null,
            "grid_auto_flow": null,
            "grid_area": null,
            "grid_template_columns": null,
            "flex": null,
            "_model_name": "LayoutModel",
            "justify_items": null,
            "grid_row": null,
            "max_height": null,
            "align_content": null,
            "visibility": null,
            "align_self": null,
            "height": null,
            "min_height": null,
            "padding": null,
            "grid_auto_rows": null,
            "grid_gap": null,
            "max_width": null,
            "order": null,
            "_view_module_version": "1.2.0",
            "grid_template_areas": null,
            "object_position": null,
            "object_fit": null,
            "grid_auto_columns": null,
            "margin": null,
            "display": null,
            "left": null
          }
        }
      }
    }
  },
  "cells": [
    {
      "cell_type": "markdown",
      "metadata": {
        "id": "z-__RAO5t53G",
        "colab_type": "text"
      },
      "source": [
        "## Softmax Image Classifier and SGD\n",
        "\n",
        "In this tutorial we we will implement a linear classifier using a softmax function and a negative log likelihood loss. These terms will be more clear as we finish this tutorial and through the lectures. The idea is that you will learn these concepts by attending lectures, doing background reading, and completing this lab. Pytorch contains a powerful set of libraries for training complex machine learning and deep learning models but for this tutorial we will be implementing things from zero, so pytorch will only be used as a matrix manipulation toolkit.\n"
      ]
    },
    {
      "cell_type": "markdown",
      "metadata": {
        "id": "Y5AUSc3jufKi",
        "colab_type": "text"
      },
      "source": [
        "### 1. First let's load some training data and explore the data\n"
      ]
    },
    {
      "cell_type": "markdown",
      "metadata": {
        "id": "Vby-ogCCxYwa",
        "colab_type": "text"
      },
      "source": [
        "We will be using the FashionMNIST dataset. FashionMNIST is a dataset consisting of 60k training images belonging to 10 categories of garments. A validation set is also provided which contains 10k images. The images are rescaled to a size of 28x28 pixels. This is a relatively small dataset that can be loaded entirely in memory so it is very convenient to experiment with. Most state-of-the-art methods usually try experiments in much larger datasets with either millions of images, or images with a higher resolution and more complex categories. You need to be more clever about dataloading and reading in case of larger datasets that do not fit into memory but pytorch offers parallel data loaders and other useful tools for those other larger datasets.\n",
        "\n",
        "Pytorch already has a Dataset class for FashionMNIST so we just have to learn to use it. You should also check the ImageFolder data loader which could be useful for some of your projects, and all other datasets that come easy data loaders for your use in case you want to use them for your projects: https://pytorch.org/docs/stable/torchvision/datasets.html. If you want to use a custom dataset, you should learn to create your own Dataset classes by inheriting from torch.utils.data.Dataset. You only have to implement two functionalities: \\__getitem\\__ and \\__len\\__. Pytorch is opensource so you can check the code for the existing Dataset classes here: https://github.com/pytorch/vision/tree/master/torchvision/datasets\n"
      ]
    },
    {
      "cell_type": "code",
      "metadata": {
        "id": "j0JJRfD6ti7m",
        "colab_type": "code",
        "outputId": "63093955-4de7-43a7-f02e-614c234f4ffe",
        "colab": {
          "base_uri": "https://localhost:8080/",
          "height": 665,
          "referenced_widgets": [
            "5b824b423099482ab1682538463f8795",
            "894723723b0947b0b7d531f49914d11d",
            "8a56ee8ebb264d07a57fde9e4d319f3f",
            "916ff606a5ff4f46969e4469034a6b0c",
            "6f8a808b974943548ac29dd829a68ff2",
            "f741b7f5d85542ef8d59f9905b62e019",
            "bfffd9d090304ff99e75e116365eb133",
            "1d2d1a173f014160a37a3af08f6380a8",
            "69678154d1f9407294e45e034181e521",
            "da37cdee1ae24c26ae087c783b584036",
            "95fe2c327a104d4b9c3f9ceddd4c8a11",
            "5da285b31a0641d59c7fa67e464363a3",
            "dbcabe46133349179bed149996929179",
            "b6d91ba8a31845d6b22a7700588ce3f4",
            "eaf70be039b84faaa62390192489d9ce",
            "db419652f66e416fa66291a1c1165c93",
            "be6b31c9e26c4d1d8a2322fa3b93027a",
            "38f2506bef4c4ca49e6d9959dd2ae002",
            "17f86b7114a442a89359c5bc2d2e77ef",
            "b0d7937242c045ae963e386957257457",
            "803ae704139643f1aead2dde0ea8fab9",
            "75fd3dbd4a9b43aca29b1b1b7227e8fc",
            "d01bb5618efa4770aee853bd390a9439",
            "8e6626af22d443f6aacb2f03489a8e4e",
            "3e7820731c044e1bb4f7a6967ce8fb47",
            "fecfb176c89d4b4d81176ea2e8621dcc",
            "e87e6fd00c2b49d5846695a53df1c24b",
            "c97af7906da0431ebe61956a3c702799",
            "9b4abd7c027847938d4c4d334cc92f5d",
            "7e15c2af1fe845ffa2cec833b8a9071c",
            "fa4719bec6cd477dbbc88be0f955e5c2",
            "94c62208fb774c29a344ed7f875e9e7f"
          ]
        }
      },
      "source": [
        "import torch, torchvision, matplotlib\n",
        "import matplotlib.pyplot as plt\n",
        "import torchvision.transforms.functional as F\n",
        "from torchvision.datasets import FashionMNIST\n",
        "matplotlib.rc('image', cmap = 'gray')\n",
        "\n",
        "image_index = 13735  # Feel free to change this.\n",
        "\n",
        "# The 10 categories of objects in FashionMNIST.\n",
        "classes = ['T-shirt/top', 'Trouser', 'Pullover', 'Dress', 'Coat', 'Sandal',\n",
        "           'Shirt', 'Sneaker', 'Bag', 'Ankle boot']\n",
        "\n",
        "# Load the dataset.\n",
        "trainset = FashionMNIST(root = './data', train = True, download = True)\n",
        "\n",
        "# 1. Datasets need to implement the __len__ method for this to work.\n",
        "print('This dataset has {0} training images'.format(len(trainset)))\n",
        "\n",
        "# 2. Datasets need to implement the  __getitem__ method for this to work.\n",
        "img, label = trainset[image_index]  # Returns image and label.\n",
        "\n",
        "# Converts from PIL Image to torch.Tensor\n",
        "img = F.to_tensor(img) \n",
        "\n",
        "print('Image {0} is a {1}'.format(image_index, classes[label]))\n",
        "print('Image size is {0}x{1}x{2}'.format(img.shape[0], img.shape[1], img.shape[2]))\n",
        "# All images have 1 channel x 28 rows x 28 columns.\n",
        "\n",
        "# Display the image.\n",
        "plt.figure()\n",
        "plt.imshow(img[0]);\n",
        "plt.grid(False); plt.axis('off')\n",
        "plt.show()"
      ],
      "execution_count": 1,
      "outputs": [
        {
          "output_type": "stream",
          "text": [
            "Downloading http://fashion-mnist.s3-website.eu-central-1.amazonaws.com/train-images-idx3-ubyte.gz to ./data/FashionMNIST/raw/train-images-idx3-ubyte.gz\n"
          ],
          "name": "stdout"
        },
        {
          "output_type": "display_data",
          "data": {
            "application/vnd.jupyter.widget-view+json": {
              "model_id": "5b824b423099482ab1682538463f8795",
              "version_minor": 0,
              "version_major": 2
            },
            "text/plain": [
              "HBox(children=(IntProgress(value=1, bar_style='info', max=1), HTML(value='')))"
            ]
          },
          "metadata": {
            "tags": []
          }
        },
        {
          "output_type": "stream",
          "text": [
            "\n",
            "Extracting ./data/FashionMNIST/raw/train-images-idx3-ubyte.gz to ./data/FashionMNIST/raw\n",
            "Downloading http://fashion-mnist.s3-website.eu-central-1.amazonaws.com/train-labels-idx1-ubyte.gz to ./data/FashionMNIST/raw/train-labels-idx1-ubyte.gz\n"
          ],
          "name": "stdout"
        },
        {
          "output_type": "display_data",
          "data": {
            "application/vnd.jupyter.widget-view+json": {
              "model_id": "69678154d1f9407294e45e034181e521",
              "version_minor": 0,
              "version_major": 2
            },
            "text/plain": [
              "HBox(children=(IntProgress(value=1, bar_style='info', max=1), HTML(value='')))"
            ]
          },
          "metadata": {
            "tags": []
          }
        },
        {
          "output_type": "stream",
          "text": [
            "\n",
            "Extracting ./data/FashionMNIST/raw/train-labels-idx1-ubyte.gz to ./data/FashionMNIST/raw\n",
            "Downloading http://fashion-mnist.s3-website.eu-central-1.amazonaws.com/t10k-images-idx3-ubyte.gz to ./data/FashionMNIST/raw/t10k-images-idx3-ubyte.gz\n"
          ],
          "name": "stdout"
        },
        {
          "output_type": "display_data",
          "data": {
            "application/vnd.jupyter.widget-view+json": {
              "model_id": "be6b31c9e26c4d1d8a2322fa3b93027a",
              "version_minor": 0,
              "version_major": 2
            },
            "text/plain": [
              "HBox(children=(IntProgress(value=1, bar_style='info', max=1), HTML(value='')))"
            ]
          },
          "metadata": {
            "tags": []
          }
        },
        {
          "output_type": "stream",
          "text": [
            "\n",
            "Extracting ./data/FashionMNIST/raw/t10k-images-idx3-ubyte.gz to ./data/FashionMNIST/raw\n",
            "Downloading http://fashion-mnist.s3-website.eu-central-1.amazonaws.com/t10k-labels-idx1-ubyte.gz to ./data/FashionMNIST/raw/t10k-labels-idx1-ubyte.gz\n"
          ],
          "name": "stdout"
        },
        {
          "output_type": "display_data",
          "data": {
            "application/vnd.jupyter.widget-view+json": {
              "model_id": "3e7820731c044e1bb4f7a6967ce8fb47",
              "version_minor": 0,
              "version_major": 2
            },
            "text/plain": [
              "HBox(children=(IntProgress(value=1, bar_style='info', max=1), HTML(value='')))"
            ]
          },
          "metadata": {
            "tags": []
          }
        },
        {
          "output_type": "stream",
          "text": [
            "\n",
            "Extracting ./data/FashionMNIST/raw/t10k-labels-idx1-ubyte.gz to ./data/FashionMNIST/raw\n",
            "Processing...\n",
            "Done!\n",
            "This dataset has 60000 training images\n",
            "Image 13735 is a Dress\n",
            "Image size is 1x28x28\n"
          ],
          "name": "stdout"
        },
        {
          "output_type": "display_data",
          "data": {
            "image/png": "[encoded data removed]",
            "text/plain": [
              "<Figure size 432x288 with 1 Axes>"
            ]
          },
          "metadata": {
            "tags": []
          }
        }
      ]
    },
    {
      "cell_type": "markdown",
      "metadata": {
        "id": "BzyCD8N10v0f",
        "colab_type": "text"
      },
      "source": [
        "There are a couple of things you have to notice: (1) Images returned from the dataset are PIL images which is a data structure to hold images from the PIL python library: https://pillow.readthedocs.io/en/3.1.x/index.html. (2) We can convert it to a tensor using pytorch's to_tensor function, and (3) the pytorch tensor has dimensions $1\\times 28 \\times 28$, representing number of channels, height, and width of the image. Since it is grayscale the image only has one channel, and (4) when we show the image using matplotlib we index the first dimension so that we pass only a $28 \\times 28$ matrix to the imshow function.\n",
        "\n",
        "Let's show a group of images from the dataset to have a better idea of what the images look like in the whole dataset."
      ]
    },
    {
      "cell_type": "code",
      "metadata": {
        "id": "YU_Rq_luxj1D",
        "colab_type": "code",
        "outputId": "4dcde345-23e8-4368-e176-99552e3d68d9",
        "colab": {
          "base_uri": "https://localhost:8080/",
          "height": 240
        }
      },
      "source": [
        "sample_imgs = list()\n",
        "for i in range(0, 100):\n",
        "    # We don't do anything with the returned labels so we just use underscore _\n",
        "    img, _ = trainset[i]\n",
        "    sample_imgs.append(F.to_tensor(img))\n",
        "    \n",
        "# Code below creates a grid of images and displays them.\n",
        "# Note: the number of images in the list has to be divisible by ncols.\n",
        "def show_images(images, ncols = 20):\n",
        "    # mosaic the images in a grid of width = ncols\n",
        "    imrows = list()\n",
        "    for i in range(0, int(len(images) / ncols)):\n",
        "      start = i * ncols\n",
        "      buff = torch.cat(images[start:start + ncols], 2)[0]\n",
        "      imrows.append(buff)\n",
        "    fullimage = torch.cat(imrows, 0)\n",
        "    plt.figure(figsize=(15,50)); plt.imshow(fullimage);\n",
        "    plt.grid(False); plt.axis('off')\n",
        "    plt.show()\n",
        "\n",
        "# Show images below at 2.0x zoom level. Remember they are 32x32 pixels only.\n",
        "show_images(sample_imgs, ncols = 20)"
      ],
      "execution_count": 2,
      "outputs": [
        {
          "output_type": "display_data",
          "data": {
            "image/png": "[encoded data removed]",
            "text/plain": [
              "<Figure size 1080x3600 with 1 Axes>"
            ]
          },
          "metadata": {
            "tags": []
          }
        }
      ]
    },
    {
      "cell_type": "markdown",
      "metadata": {
        "id": "STdVzTCRl0w5",
        "colab_type": "text"
      },
      "source": [
        "Now let's show only images of \"Trouser\", but feel free to use the code below to visualize some of the other categories."
      ]
    },
    {
      "cell_type": "code",
      "metadata": {
        "id": "ILxV34jZ0_aZ",
        "colab_type": "code",
        "outputId": "f3c4ef8b-7fce-4fbb-e941-28bee5960273",
        "colab": {
          "base_uri": "https://localhost:8080/",
          "height": 240
        }
      },
      "source": [
        "sample_imgs = list()\n",
        "for i in range(0, len(trainset)):\n",
        "    img, category_id = trainset[i]\n",
        "    if classes[category_id] == \"Trouser\":\n",
        "      sample_imgs.append(F.to_tensor(img))\n",
        "      if len(sample_imgs) == 100:\n",
        "        break\n",
        "\n",
        "show_images(sample_imgs, ncols = 20)"
      ],
      "execution_count": 3,
      "outputs": [
        {
          "output_type": "display_data",
          "data": {
            "image/png": "[encoded data removed]",
            "text/plain": [
              "<Figure size 1080x3600 with 1 Axes>"
            ]
          },
          "metadata": {
            "tags": []
          }
        }
      ]
    },
    {
      "cell_type": "markdown",
      "metadata": {
        "id": "kAnNmPITrrlW",
        "colab_type": "text"
      },
      "source": [
        "### 2. Anatomy of a  Softmax Classifier"
      ]
    },
    {
      "cell_type": "markdown",
      "metadata": {
        "id": "9gVmwgKmxcJ0",
        "colab_type": "text"
      },
      "source": [
        "The classifier will take input vectors $x$ of size $1x28x28 = 784$, which is the size of the images. The classifier will output vector predictions of size $10$, where each entry corresponds to a category. The function representing the linear classifier is:  \n",
        "\n",
        "$$\\hat{y} = softmax(Wx+b)$$\n",
        "\n",
        "where the $softmax$ function is applied to each element in the vector $a = Wx + b$. The weight matrix $W$ is of size 10x784, and $b$ is a bias vector of size 10, so the output vector $a$ is of size 10 to match the number of categories that we want to predict. Both $W$ and $b$ need to be \"learned\" or estimated using the training dataset. The softmax function is defined for each entry $a_i$ in the vector $a$ as:\n",
        "\n",
        "$$\\hat{y}_i = softmax(a_i) = \\frac{exp(a_i)}{\\sum_{k=1}^{10}{exp(a_k)}}$$\n",
        "\n",
        "The softmax function forces the entries in the vector $\\hat{y}$ to sum to 1. We will discuss in the next section and during class in more detail why this transformation is convenient, and what other options we could have.\n"
      ]
    },
    {
      "cell_type": "code",
      "metadata": {
        "id": "WByD9apbryZk",
        "colab_type": "code",
        "outputId": "81f7a303-71c0-40e9-b5e6-ac4b90ac8d67",
        "colab": {
          "base_uri": "https://localhost:8080/",
          "height": 418
        }
      },
      "source": [
        "# Softmax function: exp(a) / sum(exp(a))\n",
        "# Note that this function works for tensors of any shape, it is not a scalar function.\n",
        "def softmax(a):\n",
        "    max_val = a.max()  # This is to avoid variable overflows.\n",
        "    exp_a = (a - max_val).exp()\n",
        "    return exp_a.div(exp_a.sum())\n",
        "\n",
        "# Classification function: y = softmax(Wx + b)\n",
        "# Again, note this function is operating on vectors.\n",
        "def linear(x, weight, bias):\n",
        "    return torch.matmul(weight, x) + bias\n",
        "\n",
        "# Initialize bias and weight with random values.\n",
        "weight = torch.zeros(10, 1 * 28 * 28).normal_(0, 0.01)\n",
        "bias = torch.zeros(10, 1).normal_(0, 0.01)\n",
        "\n",
        "# Now predict the category for one image using this un-trained classifier.\n",
        "img, label = trainset[image_index]\n",
        "img = F.to_tensor(img)\n",
        "x = img.view(1 * 28 * 28, 1)\n",
        "a = linear(x, weight, bias)\n",
        "predictions = softmax(a)\n",
        "\n",
        "# Show the results of the classifier.\n",
        "# Display the image.\n",
        "plt.figure(); plt.imshow(img[0]);\n",
        "plt.grid(False); plt.axis('off'); plt.show()\n",
        "max_score, max_label = predictions.max(0)\n",
        "for (i, pred) in enumerate(predictions.squeeze().tolist()):\n",
        "    print('y_hat[%s] = %.2f' % (classes[i], pred))"
      ],
      "execution_count": 4,
      "outputs": [
        {
          "output_type": "display_data",
          "data": {
            "image/png": "[encoded data removed]",
            "text/plain": [
              "<Figure size 432x288 with 1 Axes>"
            ]
          },
          "metadata": {
            "tags": []
          }
        },
        {
          "output_type": "stream",
          "text": [
            "y_hat[T-shirt/top] = 0.12\n",
            "y_hat[Trouser] = 0.11\n",
            "y_hat[Pullover] = 0.09\n",
            "y_hat[Dress] = 0.10\n",
            "y_hat[Coat] = 0.10\n",
            "y_hat[Sandal] = 0.09\n",
            "y_hat[Shirt] = 0.10\n",
            "y_hat[Sneaker] = 0.10\n",
            "y_hat[Bag] = 0.10\n",
            "y_hat[Ankle boot] = 0.10\n"
          ],
          "name": "stdout"
        }
      ]
    },
    {
      "cell_type": "markdown",
      "metadata": {
        "id": "QrKgcwYDt4hD",
        "colab_type": "text"
      },
      "source": [
        "Now we have a working classifier but it is not a very good one. The rest of this lab will deal with \"training\" or \"learning\" the weight and bias parameters that minimize the number of errors of the classifier in the training data. Under certain conditions the parameters learned in the training data will also be generally good to make predictions on other data not seen during training. This property is called generalization. We will discuss in class more about those concepts.  \n"
      ]
    },
    {
      "cell_type": "markdown",
      "metadata": {
        "id": "FiEFrfUWvLry",
        "colab_type": "text"
      },
      "source": [
        "### 3. Computing the loss or cost between a correct prediction and a wrong prediction.\n"
      ]
    },
    {
      "cell_type": "markdown",
      "metadata": {
        "id": "fjIigqd_xfK8",
        "colab_type": "text"
      },
      "source": [
        "The first step to train our weight and bias parameters is to define a criterion for how wrong (or good) are the predictions given a set of weights and bias parameters. Loss functions measure the \"distance\" between a prediction $\\hat{y}$ and a true label $y$. In the case of softmax, you can think of your true label $Dress$ as a vector with all zeros except in the entry corresponding to $Dress$ where it is one, e.g. $y = [0, 0, 0, 1, 0, 0, 0, 0, 0, 0]$. The loss function $\\ell(y,\\hat{y})$ between the prediction and true label is given then simply by the following equation: \n",
        "$$\\ell(y, \\hat{y})= -\\sum_iy_ilog(\\hat{y}_i)$$\n",
        "\n",
        "Since the true label vector $y$ only has one non-zero entry, we know this sum really has only one term that is non-zero so you will usually see this loss function simply stated as:\n",
        "\n",
        "$$\\ell(label, \\hat{y}) = -log(\\hat{y}_{label})$$\n",
        "\n",
        "The intuition behind this loss function is that we want the prediction score corresponding to the true label to be as high as possible (close to one), and by doing this we will also push the other scores to go close to zero because the softmax function forces these scores to sum to one. Since we want to pose the problem as a minimization problem, we use $-log(y_{label})$. "
      ]
    },
    {
      "cell_type": "code",
      "metadata": {
        "id": "9U6Am6phs_90",
        "colab_type": "code",
        "outputId": "85b216cd-1c12-4cbd-a003-fe5ff852ec5a",
        "colab": {
          "base_uri": "https://localhost:8080/",
          "height": 561
        }
      },
      "source": [
        "def loss(label, predictions):\n",
        "    return -predictions[label].log()\n",
        "\n",
        "# Let's compute predictions again.\n",
        "predictions = softmax(linear(x, weight, bias))\n",
        "\n",
        "for (i, pred) in enumerate(predictions.squeeze().tolist()):\n",
        "    trueval = (i == label)\n",
        "    print('y[{0}] = {1}\\ny_hat[{0}] = {2:.2f}\\n'.format(classes[i], trueval, pred))\n",
        "\n",
        "# The correct label for this image is 'frog'.\n",
        "loss_value = loss(3, predictions)\n",
        "print('\\nLoss = -sum(y[i] * log[y_hat[i]]) = -log[y_hat[{0}]] = {1:.4f}'.format(classes[label], loss_value[0]))"
      ],
      "execution_count": 5,
      "outputs": [
        {
          "output_type": "stream",
          "text": [
            "y[T-shirt/top] = False\n",
            "y_hat[T-shirt/top] = 0.12\n",
            "\n",
            "y[Trouser] = False\n",
            "y_hat[Trouser] = 0.11\n",
            "\n",
            "y[Pullover] = False\n",
            "y_hat[Pullover] = 0.09\n",
            "\n",
            "y[Dress] = True\n",
            "y_hat[Dress] = 0.10\n",
            "\n",
            "y[Coat] = False\n",
            "y_hat[Coat] = 0.10\n",
            "\n",
            "y[Sandal] = False\n",
            "y_hat[Sandal] = 0.09\n",
            "\n",
            "y[Shirt] = False\n",
            "y_hat[Shirt] = 0.10\n",
            "\n",
            "y[Sneaker] = False\n",
            "y_hat[Sneaker] = 0.10\n",
            "\n",
            "y[Bag] = False\n",
            "y_hat[Bag] = 0.10\n",
            "\n",
            "y[Ankle boot] = False\n",
            "y_hat[Ankle boot] = 0.10\n",
            "\n",
            "\n",
            "Loss = -sum(y[i] * log[y_hat[i]]) = -log[y_hat[Dress]] = 2.3126\n"
          ],
          "name": "stdout"
        }
      ]
    },
    {
      "cell_type": "markdown",
      "metadata": {
        "id": "LXOTDfwkMBLl",
        "colab_type": "text"
      },
      "source": [
        "### 4. Computing Numerical Gradients for parameters $W$ and $b$\n"
      ]
    },
    {
      "cell_type": "markdown",
      "metadata": {
        "id": "YYqn7lOj26jZ",
        "colab_type": "text"
      },
      "source": [
        "The rest of this lab will be about modifying the parameters $W$ and $b$ so that the loss for all the images in the training set is as small as possible. Randomly modifying the values of these parameters until finding a set of values for which the loss becomes smaller might work reasonably well when few parameters need to be estimated but our weight matrix $W$ alone has 784x10 = 7840 parameters, and some models that we will study later in the class will have billions of parameters.\n",
        "\n",
        "We will instead use Stochastic Gradient Descent (SGD), which is an optimization technique that consists on computing the loss for a training sample (plain SGD) or a small group of training samples (minibatch SGD) and modifying the parameters $W$ and $b$ by shifting them by a small amount in the direction of their gradients (with respect to the loss objective), we will go over this in more detail later. We will first focus on how to compute those gradients, particularly $\\partial \\ell / \\partial w_{ij}$ and $\\partial \\ell / \\partial b_i$. \n",
        "\n",
        "A simple yet effective first approach is to compute the gradients with a numerical approximation using the definition of derivatives (below is the definition for single valued functions): $$f'(x) = lim_{h\\rightarrow0}\\frac{f(x + h) - f(x - h)}{2h}.$$ \n",
        "For a given single input pair $(x, y)$ the output of the loss function $\\ell$ just depends on the parameters $W$ and $b$. Taken this into account, for each entry $w_{ij}$ in the weight matrix $W$ we are interested in the following:\n",
        "\n",
        "$$\\frac{\\partial \\ell(W,b)}{\\partial w_{ij}} = \\frac{\\ell(W + \\mathcal{E}_{ij},b) - \\ell(W - \\mathcal{E}_{ij}, b)}{2\\epsilon}, $$\n",
        "\n",
        "where $\\mathcal{E}_{ij}$ is a matrix that has a small value $\\epsilon$ in its $(i,j)$ entry and zeroes everywhere else. Intuitively this gradient tells us how would the value of the loss change if we shake a particular weight $w_{ij}$ by an $\\epsilon$ amount. We can do the same to compute derivatives with respect to the bias parameters $b_i$. Next we write code to compute gradients for a loss computed on a single image."
      ]
    },
    {
      "cell_type": "code",
      "metadata": {
        "id": "saDxzwLPwWPd",
        "colab_type": "code",
        "outputId": "bdbdb720-bf62-4387-f3eb-be9465c391fc",
        "colab": {
          "base_uri": "https://localhost:8080/",
          "height": 187
        }
      },
      "source": [
        "epsilon = 0.001\n",
        "shifted_weight = weight.clone()  # Make a copy of the weights.\n",
        "\n",
        "# Initialize gradients for bias and weight with zero values.\n",
        "gradWeight = torch.zeros(10, 1 * 28 * 28)\n",
        "gradBias = torch.zeros(10, 1)\n",
        "\n",
        "# Compute gradients for each weight w_ij\n",
        "for i in range(0, weight.shape[0]):\n",
        "    for j in range(0, weight.shape[1]):\n",
        "      \n",
        "        # Compute f(x + h)\n",
        "        shifted_weight[i, j] = shifted_weight[i, j].item() + epsilon\n",
        "        f1 = softmax(linear(x, shifted_weight, bias))\n",
        "        loss1 = loss(label, f1)\n",
        "        shifted_weight[i, j] = weight[i, j] # restore original value.\n",
        "        \n",
        "        # Compute f(x - h)\n",
        "        shifted_weight[i, j] = shifted_weight[i, j].item() - epsilon\n",
        "        f2 = softmax(linear(x, shifted_weight, bias))\n",
        "        loss2 = loss(label, f2)\n",
        "        shifted_weight[i, j] = weight[i, j] # restore original value.\n",
        "\n",
        "        # Compute [f(x + h) - f(x - h)] / 2h.\n",
        "        #print(loss1, loss2)\n",
        "        gradWeight[i, j] = (loss1.item() - loss2.item()) / (2 * epsilon)\n",
        "\n",
        "numericalGradWeight = gradWeight # Let's save this variable with another name.\n",
        "print(numericalGradWeight[:10, 320:325]) # Print a subset of the gradients."
      ],
      "execution_count": 6,
      "outputs": [
        {
          "output_type": "stream",
          "text": [
            "tensor([[ 0.0633,  0.0792,  0.0702,  0.0933,  0.0761],\n",
            "        [ 0.0607,  0.0758,  0.0672,  0.0893,  0.0728],\n",
            "        [ 0.0467,  0.0584,  0.0517,  0.0689,  0.0561],\n",
            "        [-0.4946, -0.6182, -0.5476, -0.7279, -0.5937],\n",
            "        [ 0.0532,  0.0664,  0.0589,  0.0782,  0.0638],\n",
            "        [ 0.0491,  0.0613,  0.0541,  0.0720,  0.0589],\n",
            "        [ 0.0534,  0.0669,  0.0591,  0.0787,  0.0641],\n",
            "        [ 0.0553,  0.0693,  0.0613,  0.0815,  0.0665],\n",
            "        [ 0.0567,  0.0709,  0.0629,  0.0834,  0.0682],\n",
            "        [ 0.0560,  0.0701,  0.0621,  0.0825,  0.0674]])\n"
          ],
          "name": "stdout"
        }
      ]
    },
    {
      "cell_type": "markdown",
      "metadata": {
        "id": "HHNbQeoSapx4",
        "colab_type": "text"
      },
      "source": [
        "In the above code we have used the method .item(), please read on pytorch's documentation on \"0-dimensional scalar tensors\" about why we need this: https://pytorch.org/blog/pytorch-0_4_0-migration-guide/#support-for-0-dimensional-scalar-tensors"
      ]
    },
    {
      "cell_type": "markdown",
      "metadata": {
        "id": "5uUGXspEcbcQ",
        "colab_type": "text"
      },
      "source": [
        "### 5. Computing Analytic Gradients for parameters $W$ and $b$\n"
      ]
    },
    {
      "cell_type": "markdown",
      "metadata": {
        "id": "o3fbQsfu2_if",
        "colab_type": "text"
      },
      "source": [
        "Unfortunately computing numerical gradients requires running the function f as many times as the number of parameters in the model which could be a very large number. In practice, gradients are computed analytically instead of numerically. This means we will be computing the derivatives $\\partial \\ell/\\partial w_{ij}$ and $\\partial \\ell/\\partial b_{i}$ by first deriving their analytic equation using our knowledge of basic calculus. Typically we do not compute the derivatives with respect to the parameters directly but the derivatives with respect to inputs or outputs, and use those to compute the derivatives with respect to the parameters using the chain rule. First let's write here again our loss function $\\ell$ for a single training example $(x, label)$:\n",
        "\n",
        "\\begin{equation}\n",
        "\\ell(W, b) = -\\text{log}(\\hat{y}_{label}(W, b)) = -\\text{log}\\Big(\\frac{\\text{exp}(a_{label}(W, b))}{\\sum_{k=1}^{10}{\\text{exp}(a_k(W,b))}}\\Big)\n",
        "\\end{equation}\n",
        "\n",
        "For simplicity we will drop the parameters $W$ and $b$ from the notation but it is important to remember what variables depend on them.\n",
        "\n",
        "\\begin{equation}\n",
        "\\ell = -\\text{log}\\Big(\\frac{\\text{exp}(a_{label})}{\\sum_{k=1}^{10}{\\text{exp}(a_k)}}\\Big)\n",
        "\\end{equation}\n",
        "\n",
        "We will compute the derivatives with respect to parameters $w_{ij}$ and $b_i$ using the chain rule as:\n",
        "\n",
        "\\begin{equation}\n",
        "\\frac{\\partial \\ell}{\\partial w_{ij}} = \\frac{\\partial \\ell}{\\partial a_{i}}\\frac{\\partial a_i}{\\partial w_{ij}}\n",
        "\\quad\\text{and}\\quad\n",
        "\\frac{\\partial \\ell}{\\partial b_{i}} = \\frac{\\partial \\ell}{\\partial a_{i}}\\frac{\\partial a_i}{\\partial b_{i}}\n",
        "\\end{equation}\n",
        "\n",
        "These derivatives correspond to the following expressions (you can trust this for now, but an appendix with careful derivations is included at the end, or even better you can try deriving it yourself on paper):\n",
        "\n",
        "\\begin{equation}\n",
        "\\frac{\\partial \\ell}{\\partial a_{i}} = \\frac{\\partial}{\\partial a_{i}}\\Big[-\\text{log}\\Big(\\frac{\\text{exp}(a_{label})}{\\sum_{k=1}^{10}{\\text{exp}(a_k)}}\\Big)\\Big] = \\hat{y}_{i} - y_i  \\tag{See Appendix, or derive it yourself}\n",
        "\\end{equation}\n",
        "\n",
        "\\begin{equation}\n",
        "\\frac{\\partial a_i}{\\partial w_{ij}} = \\frac{\\partial}{\\partial w_{ij}} (w_{i,1}x_1 + ... + w_{ij}x_j + ... + w_{i, 784}x_{784} + b_i) = x_j\n",
        "\\end{equation}\n",
        "\n",
        "\\begin{equation}\n",
        "\\frac{\\partial a_i}{\\partial b_{i}} = \\frac{\\partial}{\\partial b_{i}} (w_{i,1}x_1 + ... + w_{ij}x_j + ... + w_{i, 784}x_{784} + b_i) = 1 \n",
        "\\end{equation}\n",
        "\n",
        "Next we will compute the gradients with respect to parameters using the formulas above for a single image and compare them with the ones obtained using our numerical gradients for the same image:"
      ]
    },
    {
      "cell_type": "code",
      "metadata": {
        "id": "UkleRNt3OlMt",
        "colab_type": "code",
        "outputId": "f7cda87f-29fd-4532-d430-23b08f5fee5b",
        "colab": {
          "base_uri": "https://localhost:8080/",
          "height": 204
        }
      },
      "source": [
        "# This computes dL / da = y_hat - y.\n",
        "def loss_softmax_backward(label, predictions):\n",
        "    grad_inputs = predictions.clone()\n",
        "    grad_inputs[label] = grad_inputs[label].item() - 1\n",
        "    return grad_inputs\n",
        "\n",
        "# This computes dL / dW[i,j] = (dL / da) * (da / dW[i,j])\n",
        "#           and dL / dB[i] = (dL / da) * (da / dB[i,j])\n",
        "def linear_backward(x, weight, bias, gradOutput):\n",
        "    gradBias = bias.clone().zero_()\n",
        "    gradWeight = weight.clone().zero_()\n",
        "    \n",
        "    gradWeight = gradOutput * x.t()   # dL / dW[i,j] = x[j] * dL / da \n",
        "    gradBias.copy_(gradOutput)   # dL / dB[i] = 1 * dL / da\n",
        "    \n",
        "    return gradWeight, gradBias\n",
        "\n",
        "# Compute dL / da\n",
        "gradOutput = loss_softmax_backward(label, predictions)\n",
        "# Compute dL / dW[i,j] and dL / dB[i]\n",
        "gradWeight, gradBias = linear_backward(x, weight, bias, gradOutput)\n",
        "\n",
        "# Print same subset of the gradients as before (they should be similar).\n",
        "print(gradWeight[:10, 320:325]) \n",
        "\n",
        "# Compare the gradients computed analytically with numerical gradients.\n",
        "g1 = gradWeight.view(-1, 1).squeeze()\n",
        "g2 = numericalGradWeight.view(-1, 1).squeeze()\n",
        "print('Distance betwen numerical and analytical gradients: %.6f' % \n",
        "      (torch.norm(g1 - g2) / torch.norm(g1 + g2)))"
      ],
      "execution_count": 7,
      "outputs": [
        {
          "output_type": "stream",
          "text": [
            "tensor([[ 0.0634,  0.0792,  0.0701,  0.0932,  0.0760],\n",
            "        [ 0.0607,  0.0758,  0.0672,  0.0893,  0.0728],\n",
            "        [ 0.0468,  0.0585,  0.0518,  0.0688,  0.0561],\n",
            "        [-0.4947, -0.6183, -0.5477, -0.7279, -0.5936],\n",
            "        [ 0.0532,  0.0665,  0.0589,  0.0782,  0.0638],\n",
            "        [ 0.0490,  0.0612,  0.0542,  0.0721,  0.0588],\n",
            "        [ 0.0535,  0.0668,  0.0592,  0.0787,  0.0641],\n",
            "        [ 0.0554,  0.0692,  0.0613,  0.0815,  0.0665],\n",
            "        [ 0.0568,  0.0710,  0.0628,  0.0835,  0.0681],\n",
            "        [ 0.0561,  0.0702,  0.0621,  0.0826,  0.0673]])\n",
            "Distance betwen numerical and analytical gradients: 0.000143\n"
          ],
          "name": "stdout"
        }
      ]
    },
    {
      "cell_type": "markdown",
      "metadata": {
        "id": "QCb8kCr02JDW",
        "colab_type": "text"
      },
      "source": [
        "The above code should ouptut gradients that are very similar to the approximate gradients computed numerically. This is a very common test to determine if an implementation of a function optmized with stochastic gradient descent is correct. Computing the gradients numerically is easy to implement but expensive to execute, as we needed to shift every parameter by an epsilon amount and re-run the function every time. While we obtain the gradients analytically in a single pass."
      ]
    },
    {
      "cell_type": "markdown",
      "metadata": {
        "id": "pVfOQ8Bv3kuF",
        "colab_type": "text"
      },
      "source": [
        "### 6. Stochastic Gradient Descent (SGD)"
      ]
    },
    {
      "cell_type": "markdown",
      "metadata": {
        "id": "zNt9OS2p3wDm",
        "colab_type": "text"
      },
      "source": [
        "Now that we compute gradients efficiently we will implement the stochastic gradient descent loop that moves the weights according to the gradients. In each iteration we sample an (input, label) pair and compute the gradients of the parameters, then we update the parameters according to the following rules:\n",
        "\n",
        "$$w_{ij} = w_{ij} - \\lambda\\frac{\\partial \\ell}{\\partial w_{ij}}$$\n",
        "\n",
        "$$b_i = b_i - \\lambda\\frac{\\partial \\ell}{\\partial b_i}$$\n",
        "\n",
        "where $\\lambda$ is the learning rate. This value is set empirically and is usually modified during training. We will provide additional practical advice on choosing the learning rate as well as other tricks during class but there is no single general advice for this. These are generally empirically determined -- as in you try and see what works. Maybe over time with experience you will develop the ability to choose them appropriately on your first try based on the initialization of the parameters, the type of operations involved, the types of regularizations used together with the training method. \n",
        "\n",
        "We implement next a basic stochastic gradient descent loop with N epochs. This means we will roughly go over all training examples N times. You can also see how the loss decreases while the accuracy increases. It is usually a good idea to keep track of these two when you train any model. Another question is: When do we stop? This is where the validation data comes into play, we compute the accuracy on the validation data and we stop when the accuracy on the validation data does not improve anymore. Run the cell below and be patient because this will take a couple of minutes."
      ]
    },
    {
      "cell_type": "code",
      "metadata": {
        "id": "4ERVoFSCdw9g",
        "colab_type": "code",
        "outputId": "c9b2fb4a-0c24-4aa5-9fac-d28ca60d1520",
        "colab": {
          "base_uri": "https://localhost:8080/",
          "height": 612
        }
      },
      "source": [
        "# Load the validation dataset.\n",
        "valset = FashionMNIST(root = './data', train = False, download = True)\n",
        "\n",
        "# Define a learning rate. \n",
        "learningRate = 1e-4\n",
        "\n",
        "# Define number of epochs.\n",
        "N = 5\n",
        "\n",
        "# Initialize bias and weight with random values again.\n",
        "weight = torch.empty(10, 1 * 28 * 28).normal_(0, 0.01)\n",
        "bias = torch.zeros(10, 1)\n",
        "\n",
        "# log accuracies and losses.\n",
        "train_accuracies = []; val_accuracies = []\n",
        "train_losses = []; val_losses = []\n",
        "\n",
        "# Training loop. Please make sure you understand every single line of code below.\n",
        "# Go back to some of the previous steps in this lab if necessary.\n",
        "for epoch in range(0, N):\n",
        "    correct = 0.0\n",
        "    cum_loss = 0.0\n",
        "    \n",
        "    # Make a pass over the training data.\n",
        "    for (i, (img, label)) in enumerate(trainset):\n",
        "        x = F.to_tensor(img)\n",
        "        x = x.view(1 * 28 * 28, 1)\n",
        "        \n",
        "        # Forward pass. (Prediction stage)\n",
        "        predictions = softmax(linear(x, weight, bias))\n",
        "        cum_loss += loss(label, predictions).item()\n",
        "        max_score, max_label = predictions.max(0)\n",
        "        if max_label[0] == label: correct += 1\n",
        "        \n",
        "        #Backward pass. (Gradient computation stage)\n",
        "        gradOutput = loss_softmax_backward(label, predictions)\n",
        "        gradWeight, gradBias = linear_backward(x, weight, bias, gradOutput)\n",
        "        \n",
        "        # Parameter updates.\n",
        "        weight.add_(-learningRate, gradWeight)\n",
        "        bias.add_(-learningRate, gradBias)\n",
        "        \n",
        "        # Logging the current results on training.\n",
        "        if (i + 1) % 10000 == 0:\n",
        "            print('Train-epoch %d. Iteration %05d, Avg-Loss: %.4f, Accuracy: %.4f' % \n",
        "                  (epoch, i + 1, cum_loss / (i + 1), correct / (i + 1)))\n",
        "    \n",
        "    train_accuracies.append(correct / len(trainset))\n",
        "    train_losses.append(cum_loss / len(trainset))\n",
        "    \n",
        "    \n",
        "    # Make a pass over the validation data.\n",
        "    correct = 0.0\n",
        "    cum_loss = 0.0\n",
        "    for (i, (img, label)) in enumerate(valset):\n",
        "        x = F.to_tensor(img)\n",
        "        x = x.view(1 * 28 * 28, 1)\n",
        "        \n",
        "        # Forward pass. (Prediction stage)\n",
        "        predictions = softmax(linear(x, weight, bias))\n",
        "        cum_loss += loss(label, predictions).item()\n",
        "        max_score, max_label = predictions.max(0)\n",
        "        if max_label[0] == label: correct += 1\n",
        "          \n",
        "          \n",
        "    val_accuracies.append(correct / len(valset))\n",
        "    val_losses.append(cum_loss / len(valset))\n",
        "            \n",
        "    # Logging the current results on validation.\n",
        "    print('Validation-epoch %d. Avg-Loss: %.4f, Accuracy: %.4f' % \n",
        "          (epoch, cum_loss / len(valset), correct / len(valset)))"
      ],
      "execution_count": 8,
      "outputs": [
        {
          "output_type": "stream",
          "text": [
            "Train-epoch 0. Iteration 10000, Avg-Loss: 1.6638, Accuracy: 0.5895\n",
            "Train-epoch 0. Iteration 20000, Avg-Loss: 1.4215, Accuracy: 0.6299\n",
            "Train-epoch 0. Iteration 30000, Avg-Loss: 1.2839, Accuracy: 0.6504\n",
            "Train-epoch 0. Iteration 40000, Avg-Loss: 1.1892, Accuracy: 0.6693\n",
            "Train-epoch 0. Iteration 50000, Avg-Loss: 1.1216, Accuracy: 0.6827\n",
            "Train-epoch 0. Iteration 60000, Avg-Loss: 1.0696, Accuracy: 0.6934\n",
            "Validation-epoch 0. Avg-Loss: 0.8111, Accuracy: 0.7371\n",
            "Train-epoch 1. Iteration 10000, Avg-Loss: 0.7820, Accuracy: 0.7570\n",
            "Train-epoch 1. Iteration 20000, Avg-Loss: 0.7723, Accuracy: 0.7590\n",
            "Train-epoch 1. Iteration 30000, Avg-Loss: 0.7624, Accuracy: 0.7616\n",
            "Train-epoch 1. Iteration 40000, Avg-Loss: 0.7499, Accuracy: 0.7674\n",
            "Train-epoch 1. Iteration 50000, Avg-Loss: 0.7399, Accuracy: 0.7699\n",
            "Train-epoch 1. Iteration 60000, Avg-Loss: 0.7313, Accuracy: 0.7719\n",
            "Validation-epoch 1. Avg-Loss: 0.7017, Accuracy: 0.7704\n",
            "Train-epoch 2. Iteration 10000, Avg-Loss: 0.6793, Accuracy: 0.7870\n",
            "Train-epoch 2. Iteration 20000, Avg-Loss: 0.6757, Accuracy: 0.7874\n",
            "Train-epoch 2. Iteration 30000, Avg-Loss: 0.6718, Accuracy: 0.7887\n",
            "Train-epoch 2. Iteration 40000, Avg-Loss: 0.6648, Accuracy: 0.7921\n",
            "Train-epoch 2. Iteration 50000, Avg-Loss: 0.6594, Accuracy: 0.7933\n",
            "Train-epoch 2. Iteration 60000, Avg-Loss: 0.6552, Accuracy: 0.7940\n",
            "Validation-epoch 2. Avg-Loss: 0.6506, Accuracy: 0.7874\n",
            "Train-epoch 3. Iteration 10000, Avg-Loss: 0.6291, Accuracy: 0.8007\n",
            "Train-epoch 3. Iteration 20000, Avg-Loss: 0.6271, Accuracy: 0.7996\n",
            "Train-epoch 3. Iteration 30000, Avg-Loss: 0.6250, Accuracy: 0.8008\n",
            "Train-epoch 3. Iteration 40000, Avg-Loss: 0.6200, Accuracy: 0.8039\n",
            "Train-epoch 3. Iteration 50000, Avg-Loss: 0.6162, Accuracy: 0.8050\n",
            "Train-epoch 3. Iteration 60000, Avg-Loss: 0.6138, Accuracy: 0.8053\n",
            "Validation-epoch 3. Avg-Loss: 0.6192, Accuracy: 0.7973\n",
            "Train-epoch 4. Iteration 10000, Avg-Loss: 0.5975, Accuracy: 0.8087\n",
            "Train-epoch 4. Iteration 20000, Avg-Loss: 0.5961, Accuracy: 0.8068\n",
            "Train-epoch 4. Iteration 30000, Avg-Loss: 0.5949, Accuracy: 0.8079\n",
            "Train-epoch 4. Iteration 40000, Avg-Loss: 0.5909, Accuracy: 0.8105\n",
            "Train-epoch 4. Iteration 50000, Avg-Loss: 0.5880, Accuracy: 0.8119\n",
            "Train-epoch 4. Iteration 60000, Avg-Loss: 0.5865, Accuracy: 0.8120\n",
            "Validation-epoch 4. Avg-Loss: 0.5975, Accuracy: 0.8026\n"
          ],
          "name": "stdout"
        }
      ]
    },
    {
      "cell_type": "markdown",
      "metadata": {
        "id": "Y9tIiHNg7WT8",
        "colab_type": "text"
      },
      "source": [
        "The code above should give us about about 80% accuracy on this task. Not bad! considering this is not a deep learning model, but a simple linear classifier and given that we didn't compute any features from the image, but fed images directly into the classifier."
      ]
    },
    {
      "cell_type": "markdown",
      "metadata": {
        "id": "1PLl5-Osb_tI",
        "colab_type": "text"
      },
      "source": [
        "### 7. Analyzing the results of this classifier"
      ]
    },
    {
      "cell_type": "markdown",
      "metadata": {
        "id": "3br4QWwZcIla",
        "colab_type": "text"
      },
      "source": [
        "Now that we have a trained model that produces good results on our validation set we can do a few things such as visualizing what are the result of this model on images from the validation set. Before that, we will plot the training and validation accuracy, as well as the training and validation losses."
      ]
    },
    {
      "cell_type": "code",
      "metadata": {
        "id": "RZb_8vemcgux",
        "colab_type": "code",
        "outputId": "3c43b087-2f07-41bc-dd30-ff3d9c3d22f2",
        "colab": {
          "base_uri": "https://localhost:8080/",
          "height": 279
        }
      },
      "source": [
        "plt.figure(figsize = (10, 4))\n",
        "plt.subplot(1, 2, 1)\n",
        "plt.plot(val_losses, 'bo-', label = 'val-loss')\n",
        "plt.plot(train_losses, 'ro-', label = 'train-loss')\n",
        "plt.grid('on')\n",
        "plt.ylabel('loss')\n",
        "plt.xlabel('epoch')\n",
        "plt.legend(['validation', 'training'], loc='upper right')\n",
        "\n",
        "plt.subplot(1, 2, 2)\n",
        "plt.plot(val_accuracies, 'bo-', label = 'val-acc')\n",
        "plt.plot(train_accuracies, 'ro-', label = 'train-acc')\n",
        "plt.ylabel('accuracy')\n",
        "plt.grid('on')\n",
        "plt.xlabel('epoch')\n",
        "plt.legend(['validation', 'training'], loc='lower right')\n",
        "plt.show()"
      ],
      "execution_count": 9,
      "outputs": [
        {
          "output_type": "display_data",
          "data": {
            "image/png": "[encoded data removed]",
            "text/plain": [
              "<Figure size 720x288 with 2 Axes>"
            ]
          },
          "metadata": {
            "tags": []
          }
        }
      ]
    },
    {
      "cell_type": "markdown",
      "metadata": {
        "id": "3fKYtyjMew1M",
        "colab_type": "text"
      },
      "source": [
        "There are a couple of things you should notice in the two plots above (1) The recorded accuracy after the first epoch is higher in the validation set than in the training set. Why is this? (2) The accuracy seems to keep going up in both training and validation after the last epoch.This shows we could probably get a better model if we keep training it for more epochs. (3) The gap in the accuracy between training and validation is becoming wider the more epochs the model has trained. Could it be the case that the validation accuracy will eventually decrease while the training accuracy keeps increasing?\n"
      ]
    },
    {
      "cell_type": "markdown",
      "metadata": {
        "id": "fdKksJVZgXVH",
        "colab_type": "text"
      },
      "source": [
        "\n",
        "Next, we are going to visualize the predictions for one image in the validation set (not used for training the weights or parameters of the model)."
      ]
    },
    {
      "cell_type": "code",
      "metadata": {
        "id": "GBF834Hoen9j",
        "colab_type": "code",
        "outputId": "57c67106-1be8-431a-f925-713917bb8400",
        "colab": {
          "base_uri": "https://localhost:8080/",
          "height": 418
        }
      },
      "source": [
        "# Now predict the category for one image using the trained classifier.\n",
        "img, label = valset[135]  # Try visualizing the outputs for different images.\n",
        "img = F.to_tensor(img)\n",
        "x = img.view(1 * 28 * 28, 1)\n",
        "a = linear(x, weight, bias)\n",
        "predictions = softmax(a)\n",
        "\n",
        "# Show the results of the classifier.\n",
        "# Display the image.\n",
        "plt.figure(); plt.imshow(img[0]);\n",
        "plt.grid(False); plt.axis('off'); plt.show()\n",
        "max_score, max_label = predictions.max(0)\n",
        "for (i, pred) in enumerate(predictions.squeeze().tolist()):\n",
        "    print('y_hat[%s] = %.2f' % (classes[i], pred))"
      ],
      "execution_count": 10,
      "outputs": [
        {
          "output_type": "display_data",
          "data": {
            "image/png": "[encoded data removed]",
            "text/plain": [
              "<Figure size 432x288 with 1 Axes>"
            ]
          },
          "metadata": {
            "tags": []
          }
        },
        {
          "output_type": "stream",
          "text": [
            "y_hat[T-shirt/top] = 0.01\n",
            "y_hat[Trouser] = 0.02\n",
            "y_hat[Pullover] = 0.16\n",
            "y_hat[Dress] = 0.01\n",
            "y_hat[Coat] = 0.51\n",
            "y_hat[Sandal] = 0.01\n",
            "y_hat[Shirt] = 0.27\n",
            "y_hat[Sneaker] = 0.00\n",
            "y_hat[Bag] = 0.01\n",
            "y_hat[Ankle boot] = 0.00\n"
          ],
          "name": "stdout"
        }
      ]
    },
    {
      "cell_type": "markdown",
      "metadata": {
        "id": "L_8eQuKBi7u0",
        "colab_type": "text"
      },
      "source": [
        "## Assignment Questions [100pts]"
      ]
    },
    {
      "cell_type": "markdown",
      "metadata": {
        "id": "2Zd8QIPxlW9O",
        "colab_type": "text"
      },
      "source": [
        "### Build a Max-Margin Classifier [60pts]\n",
        "\n",
        "\n"
      ]
    },
    {
      "cell_type": "markdown",
      "metadata": {
        "id": "Nz_VtRHdOhNG",
        "colab_type": "text"
      },
      "source": [
        "The linear model presented in this assignment uses a softmax function with a negative log likelihood loss to make predictions. Instead for this part you are requested to consider a similar classifier but using a margin-loss instead. The score predictions are not between zero and one and instead are obtained directly by computing $\\hat{y} = Wx + b$, and the loss function between the vector of predictions $\\hat{y}$ and the true $label$ has to be a margin loss. This loss encourages the prediction corresponding to the correct category  to be larger than the predictions for all other categories by a $\\Delta$ amount. The margin loss definition is stated formally as follows:\n",
        "\n",
        "$$ \\ell(label, \\hat{y}) = \\sum_{k \\; \\neq {\\text{ label}}} [max(0, \\hat{y}_k  - \\hat{y}_{label} + \\Delta)],$$"
      ]
    },
    {
      "cell_type": "markdown",
      "metadata": {
        "id": "ZWC4EVUPjlz-",
        "colab_type": "text"
      },
      "source": [
        "#### Analytical Derivation of Gradients"
      ]
    },
    {
      "cell_type": "markdown",
      "metadata": {
        "id": "kUrHpXbUt-wa",
        "colab_type": "text"
      },
      "source": [
        "**[30pts]** Write below the analytical derivations for $\\partial \\ell / \\partial w_{i,j}$ and $\\partial \\ell / \\partial b_i$, ignore the fact that $max$ has a non-differentiable inflexion point. Show the full derivation. For an example of how to do this, please see the derivation included in this assignment for the softmax classifier in section 5 and in the included Appendix. Feel free to reuse the latex or part of the derivations included there which stay the same (e.g. this classifier also has a linear layer so using the chain rule that part should stay the same). **Hints:** As in the softmax classifier you will also need to compute the gradients by separating the two cases when $i = label$ and when $i \\neq label$. To compute gradients for the $max$ function you will also need the indicator function $ 1[\\text{condition}]$, which has a value of one if the condition inside brackets is true or zero otherwise, e.g. $1[\\gamma < 3]$ has a value of one only if the argument $\\gamma$ is less than 3, otherwise it is zero. "
      ]
    },
    {
      "cell_type": "code",
      "metadata": {
        "id": "Ym6YWFg3sFcZ",
        "colab_type": "code",
        "colab": {}
      },
      "source": [
        "# This solution doesn't require any code. If you don't want to typeset \n",
        "# your math in LaTeX in the text cell above, include a scanned image \n",
        "# with your solution as an additional attachment on UVA Collab. \n",
        "# Your solution has to be easily legible."
      ],
      "execution_count": 0,
      "outputs": []
    },
    {
      "cell_type": "markdown",
      "metadata": {
        "id": "ZaLfr9Dr4ErT",
        "colab_type": "text"
      },
      "source": [
        "The Max-Margin classifier does not use a softmax transformation, so $\\hat{y}$ is the same as $a$:\n",
        "\n",
        "$$\n",
        "\\hat{y} = a = Wx + b\n",
        "$$\n",
        "\n",
        "The given loss function is:\n",
        "\n",
        "$$ \n",
        "\\ell(label, \\hat{y}) = \\sum_{k \\; \\neq {\\text{ label}}} [max(0, \\hat{y}_k  - \\hat{y}_{label} + \\Delta)]\n",
        "$$\n",
        "\n",
        "We can compute the analytic derivatives $\\partial \\ell/\\partial w_{ij}$ and $\\partial \\ell/\\partial b_{i}$ using calculus. As before, we write the loss function $\\ell$ for a single training example $(x, label)$. We will compute the derivatives with respect to parameters $w_{ij}$ and $b_i$ using the chain rule as:\n",
        "\n",
        "$$\n",
        "\\frac{\\partial \\ell}{\\partial w_{ij}} = \\frac{\\partial \\ell}{\\partial a_{i}}\\frac{\\partial a_i}{\\partial w_{ij}}\n",
        "\\quad\\text{and}\\quad\n",
        "\\frac{\\partial \\ell}{\\partial b_{i}} = \\frac{\\partial \\ell}{\\partial a_{i}}\\frac{\\partial a_i}{\\partial b_{i}}\n",
        "$$\n",
        "\n",
        "The ${\\partial a_i}/{\\partial w_{ij}}$ and ${\\partial a_i}/{\\partial b_{i}}$ parts are the same as the softmax classifier:\n",
        "\n",
        "$$\n",
        "\\frac{\\partial a_i}{\\partial w_{ij}} = \\frac{\\partial}{\\partial w_{ij}} (w_{i,1}x_1 + ... + w_{ij}x_j + ... + w_{i, 784}x_{784} + b_i) = x_j\n",
        "$$\n",
        "\n",
        "$$\n",
        "\\frac{\\partial a_i}{\\partial b_{i}} = \\frac{\\partial}{\\partial b_{i}} (w_{i,1}x_1 + ... + w_{ij}x_j + ... + w_{i, 784}x_{784} + b_i) = 1 \n",
        "$$\n",
        "\n",
        "The ${\\partial \\ell}/{\\partial a_{i}}$, however, will be different. This is a trickier dervative, since the max function is really a piece-wise function and is not differentiable at the inflextion point. As per instructions, we ignore this and only consider the differentiable pieces. First, we re-write the loss function in terms of $a$, so we could use the same notation as before:\n",
        "\n",
        "$$ \n",
        "\\ell(label, \\hat{y}) = \\sum_{k \\; \\neq {\\text{ label}}} max(0, a_k  - a_{label} + \\Delta)\n",
        "$$\n",
        "\n",
        "As before, there are two cases to consider 1) Derivative with respect to $a_{label}$ and derivative with respect to activations $a_i$ where $i\\neq label$. \n",
        "\n",
        "Let's start considering the first case when $i = label$:\n",
        "\n",
        "$$\\frac{\\partial \\ell}{\\partial a_{label}} = \\frac{\\partial}{\\partial a_{label}}[\\sum_{k \\; \\neq {\\text{ label}}} max(0, a_k  - a_{label} + \\Delta)]$$\n",
        "\n",
        "It is easier to differentiate if we re-write the max function in terms of its pieces:\n",
        "\n",
        "\\begin{equation}\n",
        "\\frac{\\partial \\ell}{\\partial a_{label}} = \\frac{\\partial}{\\partial a_{label}}\\bigg[\\sum_{k \\; \\neq {\\text{ label}}} \n",
        "  \\begin{cases}\n",
        "    a_k  - a_{label} + \\Delta \\quad \\text{if} \\quad a_k  - a_{label} + \\Delta > 0 \\\\\n",
        "    0 \\quad \\text{otherwise}\n",
        "  \\end{cases}\\bigg]\n",
        "\\end{equation}\n",
        "\n",
        "We can swap the summation and the differentiation operator due to the sum rule of differentiation. Differentiating each item, we get:\n",
        "\n",
        "\\begin{equation}\n",
        "\\frac{\\partial \\ell}{\\partial a_{label}} = \\sum_{k \\; \\neq {\\text{ label}}} \n",
        "  \\begin{cases}\n",
        "    -1 \\quad \\text{if} \\quad a_k  - a_{label} + \\Delta > 0 \\\\\n",
        "    0 \\quad \\text{otherwise}\n",
        "  \\end{cases}\n",
        "\\end{equation}\n",
        "\n",
        "We can re-write this using the indicator function:\n",
        "\n",
        "\\begin{equation}\n",
        "\\frac{\\partial \\ell}{\\partial a_{label}} = -\\sum_{k \\; \\neq {\\text{ label}}} \n",
        "    1[a_k  - a_{label} + \\Delta > 0]\n",
        "\\end{equation}\n",
        "\n",
        "This may look complicated, but all it is saying is that the expression $\\hat{y}_k  - \\hat{y}_{label} + \\Delta$ contributes -1 to the gradient if it greater than 0 and 0 otherwise.\n",
        "\n",
        "Now let's compute the second case when $i \\neq label$:\n",
        "\n",
        "$$\\frac{\\partial \\ell}{\\partial a_{i}} = \\frac{\\partial}{\\partial a_{i}}[\\sum_{k \\; \\neq {\\text{ label}}} max(0, a_k  - a_{label} + \\Delta)]$$\n",
        "\n",
        "Again, we break the pieces:\n",
        "\n",
        "\\begin{equation}\n",
        "\\frac{\\partial \\ell}{\\partial a_{i}} = \\frac{\\partial}{\\partial a_{i}}\\bigg[\\sum_{k \\; \\neq {\\text{ label}}} \n",
        "  \\begin{cases}\n",
        "    a_k  - a_{label} + \\Delta \\quad \\text{if} \\quad a_k  - a_{label} + \\Delta > 0 \\\\\n",
        "    0 \\quad \\text{otherwise}\n",
        "  \\end{cases}\\bigg]\n",
        "\\end{equation}\n",
        "\n",
        "Here, $k$ never equals $label$, so the only times the derivatives is non-zero is when $i = k$. \n",
        "\n",
        "\\begin{equation}\n",
        "\\frac{\\partial \\ell}{\\partial a_{i}} = 1[a_i  - a_{label} + \\Delta > 0]\n",
        "\\end{equation}\n",
        "\n",
        "Finally, putting the two expressions together, we get:\n",
        " \n",
        "\\begin{equation}\n",
        "\\frac{\\partial \\ell}{\\partial a_{i}} =\n",
        "  \\begin{cases}\n",
        "    -\\sum_{k \\; \\neq {\\text{ label}}} 1[a_k  - a_{label} + \\Delta > 0] \\quad \\text{if} \\quad i = label \\\\\n",
        "    1[a_i  - a_{label} + \\Delta > 0] \\quad \\text{if} \\quad i \\neq label \n",
        "  \\end{cases}\\\n",
        "\\end{equation}\n"
      ]
    },
    {
      "cell_type": "markdown",
      "metadata": {
        "id": "BfRn04IFmvU2",
        "colab_type": "text"
      },
      "source": [
        "#### Prediction with the Un-trained Max-Margin Classifier\n",
        "Before training, we expect the classification to be random."
      ]
    },
    {
      "cell_type": "code",
      "metadata": {
        "id": "aYEa7Wp7mwCO",
        "colab_type": "code",
        "colab": {
          "base_uri": "https://localhost:8080/",
          "height": 310
        },
        "outputId": "4ff1f1ce-0bc6-429e-adb5-ff0f7d13fff6"
      },
      "source": [
        "# I provide here an example for a prediction under a max-margin model\n",
        "# or forward-pass. Your task is to train a model under this loss.\n",
        "\n",
        "# Classification function: y = max(Wx + b)\n",
        "\n",
        "# We can keep the linear function.\n",
        "def linear(x, weight, bias):\n",
        "    return torch.matmul(weight, x) + bias\n",
        "\n",
        "# Initialize bias and weight with random values as for the other model.\n",
        "weight = torch.zeros(10, 1 * 28 * 28).normal_(0, 0.01)\n",
        "bias = torch.zeros(10, 1).normal_(0, 0.01)\n",
        "\n",
        "# Now predict the category for one image using this un-trained classifier.\n",
        "img, label = trainset[0]\n",
        "img = F.to_tensor(img)\n",
        "x = img.view(1 * 28 * 28, 1)\n",
        "a = linear(x, weight, bias)\n",
        "predictions = a  # no softmax, the raw outputs are the prediction scores.\n",
        "\n",
        "# Show the results of the classifier.\n",
        "# Display the image.\n",
        "plt.figure(figsize = (2, 2)); plt.imshow(img[0]);\n",
        "plt.grid(False); plt.axis('off'); plt.show()\n",
        "max_score, max_label = predictions.max(0)\n",
        "for (i, pred) in enumerate(predictions.squeeze().tolist()):\n",
        "    print('y_hat[%s] = %.2f' % (classes[i], pred))"
      ],
      "execution_count": 11,
      "outputs": [
        {
          "output_type": "display_data",
          "data": {
            "image/png": "[encoded data removed]",
            "text/plain": [
              "<Figure size 144x144 with 1 Axes>"
            ]
          },
          "metadata": {
            "tags": []
          }
        },
        {
          "output_type": "stream",
          "text": [
            "y_hat[T-shirt/top] = 0.05\n",
            "y_hat[Trouser] = -0.10\n",
            "y_hat[Pullover] = -0.16\n",
            "y_hat[Dress] = -0.01\n",
            "y_hat[Coat] = -0.02\n",
            "y_hat[Sandal] = -0.00\n",
            "y_hat[Shirt] = -0.15\n",
            "y_hat[Sneaker] = -0.02\n",
            "y_hat[Bag] = 0.17\n",
            "y_hat[Ankle boot] = 0.13\n"
          ],
          "name": "stdout"
        }
      ]
    },
    {
      "cell_type": "markdown",
      "metadata": {
        "id": "w0uzYKVnnGMV",
        "colab_type": "text"
      },
      "source": [
        "#### Implementation of Max-Margin Loss and Loss Backwards Functions"
      ]
    },
    {
      "cell_type": "markdown",
      "metadata": {
        "id": "getsxKM9rxjY",
        "colab_type": "text"
      },
      "source": [
        "**[30pts]** Implement and train a model using the margin loss from the previous question and report your training/validation accuracy, and training/validation losses plots as performed earlier in this tutorial for the softmax classifier model. Do you get better results than 80%? The instructor, and TAs obtained around 83%. **Hint:** For this question you mostly have to implement margin_loss and margin_loss_backward as posed in a cell below, the code for training needs some minimal modifications from the code included in this notebook for training the softmax classifier. Most of the grade will come from a correct implementation of margin_loss and margin_loss_backwards, which is not a lot of lines of code, (again) the rest is code that you need to minimally modify from the softmax classifier code included in this assignment."
      ]
    },
    {
      "cell_type": "markdown",
      "metadata": {
        "id": "asa8FKNTlEzM",
        "colab_type": "text"
      },
      "source": [
        "The function **margin_loss(label, predictions)** implements the following analytic expression:\n",
        "\n",
        "$$ \n",
        "\\ell(label, \\hat{y}) = \\sum_{k \\; \\neq {\\text{ label}}} [max(0, \\hat{y}_k  - \\hat{y}_{label} + \\Delta)]\n",
        "$$\n"
      ]
    },
    {
      "cell_type": "code",
      "metadata": {
        "id": "N3aiUAgPz-6q",
        "colab_type": "code",
        "colab": {}
      },
      "source": [
        "delta = 1.0\n",
        "\n",
        "# This computes L\n",
        "def margin_loss(label, predictions):\n",
        "  loss = 0\n",
        "  for k, pred in enumerate(predictions):\n",
        "    if(k != label):\n",
        "      loss += max(0, float(predictions[k]) -  float(predictions[label]) + delta)\n",
        "\n",
        "  return loss"
      ],
      "execution_count": 0,
      "outputs": []
    },
    {
      "cell_type": "markdown",
      "metadata": {
        "id": "k2U47lgPNbkK",
        "colab_type": "text"
      },
      "source": [
        "The functions **margin_loss_backward(label, predictions)** implements the following analytic expression we found before:\n",
        "\n",
        "\\begin{equation}\n",
        "\\frac{\\partial \\ell}{\\partial a_{i}} =\n",
        "  \\begin{cases}\n",
        "    -\\sum_{k \\; \\neq {\\text{ label}}} 1[a_k  - a_{label} + \\Delta > 0] \\quad \\text{if} \\quad i = label \\\\\n",
        "    1[a_i  - a_{label} + \\Delta > 0] \\quad \\text{if} \\quad i \\neq label \n",
        "  \\end{cases}\\\n",
        "\\end{equation}"
      ]
    },
    {
      "cell_type": "code",
      "metadata": {
        "id": "Xopw-ixzsBug",
        "colab_type": "code",
        "colab": {}
      },
      "source": [
        "delta = 1.0\n",
        "\n",
        "# This computes dL / da\n",
        "def margin_loss_backward(label, predictions):\n",
        "  dL_da = predictions.clone()\n",
        "  for i in range(len(dL_da)):\n",
        "    if(i != label):\n",
        "      if(float(predictions[i]) - float(predictions[label]) + delta > 0):\n",
        "        dL_da[i] = 1\n",
        "    else:\n",
        "      dL_da_i = 0\n",
        "      for k in range(len(predictions)):\n",
        "        if(k != label):\n",
        "          if(float(predictions[k]) - float(predictions[label]) + delta > 0):\n",
        "            dL_da_i -= 1\n",
        "      dL_da[i] = dL_da_i\n",
        "\n",
        "  return dL_da"
      ],
      "execution_count": 0,
      "outputs": []
    },
    {
      "cell_type": "markdown",
      "metadata": {
        "id": "tyQ_7uPZl_-m",
        "colab_type": "text"
      },
      "source": [
        "#### Comparing Analytical and Numerical Gradients\n",
        "As a sanity check, we can numerically approximate the gradients and compare them to the analytical resuls. This is useful since analytical derivations by hand are error-prone. A small distance between the two supports our derivation."
      ]
    },
    {
      "cell_type": "code",
      "metadata": {
        "id": "I7IDPDb4QSaa",
        "colab_type": "code",
        "colab": {
          "base_uri": "https://localhost:8080/",
          "height": 187
        },
        "outputId": "4d531762-6260-496f-e266-b271db0282c6"
      },
      "source": [
        "# Compute numerically\n",
        "epsilon = 0.001\n",
        "shifted_weight = weight.clone()  # Make a copy of the weights.\n",
        "\n",
        "# Initialize gradients for bias and weight with zero values.\n",
        "gradWeight = torch.zeros(10, 1 * 28 * 28)\n",
        "gradBias = torch.zeros(10, 1)\n",
        "\n",
        "# Compute gradients for each weight w_ij\n",
        "for i in range(0, weight.shape[0]):\n",
        "    for j in range(0, weight.shape[1]):\n",
        "      \n",
        "        # Compute f(x + h)\n",
        "        shifted_weight[i, j] = shifted_weight[i, j].item() + epsilon\n",
        "        f1 = linear(x, shifted_weight, bias)\n",
        "        loss1 = margin_loss(label, f1)\n",
        "        shifted_weight[i, j] = weight[i, j] # restore original value.\n",
        "        \n",
        "        # Compute f(x - h)\n",
        "        shifted_weight[i, j] = shifted_weight[i, j].item() - epsilon\n",
        "        f2 = linear(x, shifted_weight, bias)\n",
        "        loss2 = margin_loss(label, f2)\n",
        "        shifted_weight[i, j] = weight[i, j] # restore original value.\n",
        "\n",
        "        # Compute [f(x + h) - f(x - h)] / 2h.\n",
        "        #print(loss1, loss2)\n",
        "        gradWeight[i, j] = (loss1 - loss2) / (2 * epsilon) # Added by Mustafa: margin loss, no longer use item()\n",
        "\n",
        "numericalGradWeight = gradWeight # Let's save this variable with another name.\n",
        "print(numericalGradWeight[:10, 320:325]) # Print a subset of the gradients."
      ],
      "execution_count": 14,
      "outputs": [
        {
          "output_type": "stream",
          "text": [
            "tensor([[ 0.0471,  0.8588,  0.8627,  0.8314,  0.8549],\n",
            "        [ 0.0471,  0.8588,  0.8627,  0.8314,  0.8549],\n",
            "        [ 0.0471,  0.8588,  0.8627,  0.8314,  0.8549],\n",
            "        [ 0.0471,  0.8588,  0.8627,  0.8314,  0.8549],\n",
            "        [ 0.0471,  0.8588,  0.8627,  0.8314,  0.8549],\n",
            "        [ 0.0471,  0.8588,  0.8627,  0.8314,  0.8549],\n",
            "        [ 0.0471,  0.8588,  0.8627,  0.8314,  0.8549],\n",
            "        [ 0.0471,  0.8588,  0.8627,  0.8314,  0.8549],\n",
            "        [ 0.0471,  0.8588,  0.8627,  0.8314,  0.8549],\n",
            "        [-0.4235, -7.7295, -7.7647, -7.4824, -7.6941]])\n"
          ],
          "name": "stdout"
        }
      ]
    },
    {
      "cell_type": "code",
      "metadata": {
        "id": "F7SO31aEQsEa",
        "colab_type": "code",
        "colab": {
          "base_uri": "https://localhost:8080/",
          "height": 204
        },
        "outputId": "4a0becad-097d-4eb1-b2e7-46e1942bb7f7"
      },
      "source": [
        "# Compare analytical with numerical\n",
        "\n",
        "# This computes dL / dW[i,j] = (dL / da) * (da / dW[i,j])\n",
        "#           and dL / dB[i] = (dL / da) * (da / dB[i,j])\n",
        "def linear_backward(x, weight, bias, gradOutput):\n",
        "    gradBias = bias.clone().zero_()\n",
        "    gradWeight = weight.clone().zero_()\n",
        "    \n",
        "    gradWeight = gradOutput * x.t()   # dL / dW[i,j] = x[j] * dL / da \n",
        "    gradBias.copy_(gradOutput)   # dL / dB[i] = 1 * dL / da\n",
        "    \n",
        "    return gradWeight, gradBias\n",
        "\n",
        "# Compute dL / da\n",
        "gradOutput = margin_loss_backward(label, predictions)\n",
        "# Compute dL / dW[i,j] and dL / dB[i]\n",
        "gradWeight, gradBias = linear_backward(x, weight, bias, gradOutput)\n",
        "\n",
        "# Print same subset of the gradients as before (they should be similar).\n",
        "print(gradWeight[:10, 320:325]) \n",
        "\n",
        "# Compare the gradients computed analytically with numerical gradients.\n",
        "g1 = gradWeight.view(-1, 1).squeeze()\n",
        "g2 = numericalGradWeight.view(-1, 1).squeeze()\n",
        "print('Distance betwen numerical and analytical gradients: %.6f' % \n",
        "      (torch.norm(g1 - g2) / torch.norm(g1 + g2)))"
      ],
      "execution_count": 15,
      "outputs": [
        {
          "output_type": "stream",
          "text": [
            "tensor([[ 0.0471,  0.8588,  0.8627,  0.8314,  0.8549],\n",
            "        [ 0.0471,  0.8588,  0.8627,  0.8314,  0.8549],\n",
            "        [ 0.0471,  0.8588,  0.8627,  0.8314,  0.8549],\n",
            "        [ 0.0471,  0.8588,  0.8627,  0.8314,  0.8549],\n",
            "        [ 0.0471,  0.8588,  0.8627,  0.8314,  0.8549],\n",
            "        [ 0.0471,  0.8588,  0.8627,  0.8314,  0.8549],\n",
            "        [ 0.0471,  0.8588,  0.8627,  0.8314,  0.8549],\n",
            "        [ 0.0471,  0.8588,  0.8627,  0.8314,  0.8549],\n",
            "        [ 0.0471,  0.8588,  0.8627,  0.8314,  0.8549],\n",
            "        [-0.4235, -7.7294, -7.7647, -7.4824, -7.6941]])\n",
            "Distance betwen numerical and analytical gradients: 0.000002\n"
          ],
          "name": "stdout"
        }
      ]
    },
    {
      "cell_type": "markdown",
      "metadata": {
        "id": "vYBlVHhHmaVP",
        "colab_type": "text"
      },
      "source": [
        "#### Training the Max-margin Classifier"
      ]
    },
    {
      "cell_type": "code",
      "metadata": {
        "id": "k3tdKPmHZ9VQ",
        "colab_type": "code",
        "colab": {
          "base_uri": "https://localhost:8080/",
          "height": 612
        },
        "outputId": "2c4ae980-7531-43f6-ce38-2826547f690b"
      },
      "source": [
        "# Your code for training the model goes here.\n",
        "# Feel free to re-use code in this notebook.\n",
        "\n",
        "# Load the validation dataset.\n",
        "valset = FashionMNIST(root = './data', train = False, download = True)\n",
        "\n",
        "# Define a learning rate. \n",
        "learningRate = 1e-4\n",
        "\n",
        "# Define number of epochs.\n",
        "N = 5\n",
        "\n",
        "# Initialize bias and weight with random values again.\n",
        "weight = torch.empty(10, 1 * 28 * 28).normal_(0, 0.01)\n",
        "bias = torch.zeros(10, 1)\n",
        "\n",
        "# log accuracies and losses.\n",
        "train_accuracies = []; val_accuracies = []\n",
        "train_losses = []; val_losses = []\n",
        "\n",
        "# Training loop. Please make sure you understand every single line of code below.\n",
        "# Go back to some of the previous steps in this lab if necessary.\n",
        "for epoch in range(0, N):\n",
        "    correct = 0.0\n",
        "    cum_loss = 0.0\n",
        "    \n",
        "    # Make a pass over the training data.\n",
        "    for (i, (img, label)) in enumerate(trainset):\n",
        "        x = F.to_tensor(img)\n",
        "        x = x.view(1 * 28 * 28, 1)\n",
        "        \n",
        "        # Forward pass. (Prediction stage)\n",
        "        predictions = linear(x, weight, bias) # Added by Mustafa: No longer softmax\n",
        "        cum_loss += margin_loss(label, predictions) # Added by Mustafa: margin loss, no longer use item()\n",
        "        max_score, max_label = predictions.max(0)\n",
        "        if max_label[0] == label: correct += 1\n",
        "        \n",
        "        #Backward pass. (Gradient computation stage)\n",
        "        gradOutput = margin_loss_backward(label, predictions) # Added by Mustafa: margin loss backwards\n",
        "        gradWeight, gradBias = linear_backward(x, weight, bias, gradOutput)\n",
        "        \n",
        "        # Parameter updates.\n",
        "        weight.add_(-learningRate, gradWeight)\n",
        "        bias.add_(-learningRate, gradBias)\n",
        "        \n",
        "        # Logging the current results on training.\n",
        "        if (i + 1) % 10000 == 0:\n",
        "            print('Train-epoch %d. Iteration %05d, Avg-Loss: %.4f, Accuracy: %.4f' % \n",
        "                  (epoch, i + 1, cum_loss / (i + 1), correct / (i + 1)))\n",
        "    \n",
        "    train_accuracies.append(correct / len(trainset))\n",
        "    train_losses.append(cum_loss / len(trainset))\n",
        "    \n",
        "    \n",
        "    # Make a pass over the validation data.\n",
        "    correct = 0.0\n",
        "    cum_loss = 0.0\n",
        "    for (i, (img, label)) in enumerate(valset):\n",
        "        x = F.to_tensor(img)\n",
        "        x = x.view(1 * 28 * 28, 1)\n",
        "        \n",
        "        # Forward pass. (Prediction stage)\n",
        "        predictions = linear(x, weight, bias) # Added by Mustafa: No longer softmax\n",
        "        cum_loss += margin_loss(label, predictions)  # Added by Mustafa: margin loss, no longer use item()\n",
        "        max_score, max_label = predictions.max(0)\n",
        "        if max_label[0] == label: correct += 1\n",
        "          \n",
        "          \n",
        "    val_accuracies.append(correct / len(valset))\n",
        "    val_losses.append(cum_loss / len(valset))\n",
        "            \n",
        "    # Logging the current results on validation.\n",
        "    print('Validation-epoch %d. Avg-Loss: %.4f, Accuracy: %.4f' % \n",
        "          (epoch, cum_loss / len(valset), correct / len(valset)))"
      ],
      "execution_count": 16,
      "outputs": [
        {
          "output_type": "stream",
          "text": [
            "Train-epoch 0. Iteration 10000, Avg-Loss: 1.8353, Accuracy: 0.7082\n",
            "Train-epoch 0. Iteration 20000, Avg-Loss: 1.5556, Accuracy: 0.7405\n",
            "Train-epoch 0. Iteration 30000, Avg-Loss: 1.4224, Accuracy: 0.7567\n",
            "Train-epoch 0. Iteration 40000, Avg-Loss: 1.3428, Accuracy: 0.7694\n",
            "Train-epoch 0. Iteration 50000, Avg-Loss: 1.2858, Accuracy: 0.7773\n",
            "Train-epoch 0. Iteration 60000, Avg-Loss: 1.2452, Accuracy: 0.7819\n",
            "Validation-epoch 0. Avg-Loss: 1.0974, Accuracy: 0.8049\n",
            "Train-epoch 1. Iteration 10000, Avg-Loss: 1.0316, Accuracy: 0.8146\n",
            "Train-epoch 1. Iteration 20000, Avg-Loss: 1.0237, Accuracy: 0.8120\n",
            "Train-epoch 1. Iteration 30000, Avg-Loss: 1.0121, Accuracy: 0.8131\n",
            "Train-epoch 1. Iteration 40000, Avg-Loss: 1.0058, Accuracy: 0.8160\n",
            "Train-epoch 1. Iteration 50000, Avg-Loss: 0.9981, Accuracy: 0.8171\n",
            "Train-epoch 1. Iteration 60000, Avg-Loss: 0.9929, Accuracy: 0.8171\n",
            "Validation-epoch 1. Avg-Loss: 1.0456, Accuracy: 0.8128\n",
            "Train-epoch 2. Iteration 10000, Avg-Loss: 0.9714, Accuracy: 0.8223\n",
            "Train-epoch 2. Iteration 20000, Avg-Loss: 0.9675, Accuracy: 0.8187\n",
            "Train-epoch 2. Iteration 30000, Avg-Loss: 0.9595, Accuracy: 0.8196\n",
            "Train-epoch 2. Iteration 40000, Avg-Loss: 0.9570, Accuracy: 0.8217\n",
            "Train-epoch 2. Iteration 50000, Avg-Loss: 0.9525, Accuracy: 0.8228\n",
            "Train-epoch 2. Iteration 60000, Avg-Loss: 0.9497, Accuracy: 0.8225\n",
            "Validation-epoch 2. Avg-Loss: 1.0235, Accuracy: 0.8179\n",
            "Train-epoch 3. Iteration 10000, Avg-Loss: 0.9444, Accuracy: 0.8255\n",
            "Train-epoch 3. Iteration 20000, Avg-Loss: 0.9420, Accuracy: 0.8215\n",
            "Train-epoch 3. Iteration 30000, Avg-Loss: 0.9346, Accuracy: 0.8228\n",
            "Train-epoch 3. Iteration 40000, Avg-Loss: 0.9336, Accuracy: 0.8248\n",
            "Train-epoch 3. Iteration 50000, Avg-Loss: 0.9298, Accuracy: 0.8256\n",
            "Train-epoch 3. Iteration 60000, Avg-Loss: 0.9277, Accuracy: 0.8250\n",
            "Validation-epoch 3. Avg-Loss: 1.0121, Accuracy: 0.8202\n",
            "Train-epoch 4. Iteration 10000, Avg-Loss: 0.9287, Accuracy: 0.8279\n",
            "Train-epoch 4. Iteration 20000, Avg-Loss: 0.9270, Accuracy: 0.8243\n",
            "Train-epoch 4. Iteration 30000, Avg-Loss: 0.9196, Accuracy: 0.8255\n",
            "Train-epoch 4. Iteration 40000, Avg-Loss: 0.9192, Accuracy: 0.8274\n",
            "Train-epoch 4. Iteration 50000, Avg-Loss: 0.9158, Accuracy: 0.8279\n",
            "Train-epoch 4. Iteration 60000, Avg-Loss: 0.9138, Accuracy: 0.8273\n",
            "Validation-epoch 4. Avg-Loss: 1.0050, Accuracy: 0.8211\n"
          ],
          "name": "stdout"
        }
      ]
    },
    {
      "cell_type": "markdown",
      "metadata": {
        "id": "orwHEOBumlV-",
        "colab_type": "text"
      },
      "source": [
        "#### Analysis"
      ]
    },
    {
      "cell_type": "code",
      "metadata": {
        "id": "LwyWDpY5Z_11",
        "colab_type": "code",
        "colab": {
          "base_uri": "https://localhost:8080/",
          "height": 279
        },
        "outputId": "f637b728-43a8-4f97-e8c7-809c9e0c03dc"
      },
      "source": [
        "# Your code for visualizing train/val plots for accuracy and losses.\n",
        "plt.figure(figsize = (10, 4))\n",
        "plt.subplot(1, 2, 1)\n",
        "plt.plot(val_losses, 'bo-', label = 'val-loss')\n",
        "plt.plot(train_losses, 'ro-', label = 'train-loss')\n",
        "plt.grid('on')\n",
        "plt.ylabel('loss')\n",
        "plt.xlabel('epoch')\n",
        "plt.legend(['validation', 'training'], loc='upper right')\n",
        "\n",
        "plt.subplot(1, 2, 2)\n",
        "plt.plot(val_accuracies, 'bo-', label = 'val-acc')\n",
        "plt.plot(train_accuracies, 'ro-', label = 'train-acc')\n",
        "plt.ylabel('accuracy')\n",
        "plt.grid('on')\n",
        "plt.xlabel('epoch')\n",
        "plt.legend(['validation', 'training'], loc='lower right')\n",
        "plt.show()"
      ],
      "execution_count": 18,
      "outputs": [
        {
          "output_type": "display_data",
          "data": {
            "image/png": "[encoded data removed]",
            "text/plain": [
              "<Figure size 720x288 with 2 Axes>"
            ]
          },
          "metadata": {
            "tags": []
          }
        }
      ]
    },
    {
      "cell_type": "markdown",
      "metadata": {
        "id": "luu1tgg7qiau",
        "colab_type": "text"
      },
      "source": [
        "#### Prediction with the Trained Max-Margin Classifier\n",
        "Once trained, we can predict again. Hopefully, the prediction will be correct."
      ]
    },
    {
      "cell_type": "code",
      "metadata": {
        "id": "iINGUlH7qeSz",
        "colab_type": "code",
        "colab": {
          "base_uri": "https://localhost:8080/",
          "height": 310
        },
        "outputId": "d773b426-7b47-4f82-b13e-14a7dc131a34"
      },
      "source": [
        "# Now predict the category for one image using the trained classifier.\n",
        "img, label = trainset[0]\n",
        "img = F.to_tensor(img)\n",
        "x = img.view(1 * 28 * 28, 1)\n",
        "a = linear(x, weight, bias)\n",
        "predictions = a  # no softmax, the raw outputs are the prediction scores.\n",
        "\n",
        "# Show the results of the classifier.\n",
        "# Display the image.\n",
        "plt.figure(figsize = (2, 2)); plt.imshow(img[0]);\n",
        "plt.grid(False); plt.axis('off'); plt.show()\n",
        "max_score, max_label = predictions.max(0)\n",
        "for (i, pred) in enumerate(predictions.squeeze().tolist()):\n",
        "    print('y_hat[%s] = %.2f' % (classes[i], pred))"
      ],
      "execution_count": 19,
      "outputs": [
        {
          "output_type": "display_data",
          "data": {
            "image/png": "[encoded data removed]",
            "text/plain": [
              "<Figure size 144x144 with 1 Axes>"
            ]
          },
          "metadata": {
            "tags": []
          }
        },
        {
          "output_type": "stream",
          "text": [
            "y_hat[T-shirt/top] = -0.53\n",
            "y_hat[Trouser] = 0.16\n",
            "y_hat[Pullover] = 0.10\n",
            "y_hat[Dress] = 0.05\n",
            "y_hat[Coat] = -0.03\n",
            "y_hat[Sandal] = 0.06\n",
            "y_hat[Shirt] = -0.05\n",
            "y_hat[Sneaker] = 0.76\n",
            "y_hat[Bag] = -0.12\n",
            "y_hat[Ankle boot] = 2.55\n"
          ],
          "name": "stdout"
        }
      ]
    },
    {
      "cell_type": "markdown",
      "metadata": {
        "id": "OzxJaklGO0to",
        "colab_type": "text"
      },
      "source": [
        "### Build a Scene Recognition Model [40pts]"
      ]
    },
    {
      "cell_type": "markdown",
      "metadata": {
        "id": "eZBhA0WsO_h_",
        "colab_type": "text"
      },
      "source": [
        "In this section you will implement a scene recognition model using either the softmax or max-margin classifiers developed in this assignment. I have provided for you an already pre-processed dataset and data loader. This item requires minimal modifications to previous code in this tutorial. I am providing here with the code to download and for the data loader. Requirements. (1) Obtaining a validation accuracy of at least 20% **[20pts]**, (2) Showing a plot of training/validation accuracy as the ones shown in this tutorial **[10pts]**, (3) A written paragraph analyzing the training/validation curves, did the model overfit or underfit? what can be done to improve the accuracy but keeping the model as-is? **[10pts]**."
      ]
    },
    {
      "cell_type": "code",
      "metadata": {
        "id": "C5ChxJ2GPUbZ",
        "colab_type": "code",
        "colab": {
          "base_uri": "https://localhost:8080/",
          "height": 578
        },
        "outputId": "5a23b872-01e6-496c-9446-96ee445dbaa0"
      },
      "source": [
        "!wget -nc http://www.cs.virginia.edu/~vicente/deeplearning/sun20_48x48_validation.pth\n",
        "!wget -nc http://www.cs.virginia.edu/~vicente/deeplearning/sun20_48x48_train.pth\n",
        "!wget -nc http://vicenteordonez.com/deeplearning/dataset.py\n"
      ],
      "execution_count": 20,
      "outputs": [
        {
          "output_type": "stream",
          "text": [
            "--2020-02-03 20:08:47--  http://www.cs.virginia.edu/~vicente/deeplearning/sun20_48x48_validation.pth\n",
            "Resolving www.cs.virginia.edu (www.cs.virginia.edu)... 128.143.67.11\n",
            "Connecting to www.cs.virginia.edu (www.cs.virginia.edu)|128.143.67.11|:80... connected.\n",
            "HTTP request sent, awaiting response... 200 OK\n",
            "Length: 27648428 (26M)\n",
            "Saving to: ‘sun20_48x48_validation.pth’\n",
            "\n",
            "sun20_48x48_validat 100%[===================>]  26.37M  46.1MB/s    in 0.6s    \n",
            "\n",
            "2020-02-03 20:08:48 (46.1 MB/s) - ‘sun20_48x48_validation.pth’ saved [27648428/27648428]\n",
            "\n",
            "--2020-02-03 20:08:49--  http://www.cs.virginia.edu/~vicente/deeplearning/sun20_48x48_train.pth\n",
            "Resolving www.cs.virginia.edu (www.cs.virginia.edu)... 128.143.67.11\n",
            "Connecting to www.cs.virginia.edu (www.cs.virginia.edu)|128.143.67.11|:80... connected.\n",
            "HTTP request sent, awaiting response... 200 OK\n",
            "Length: 27648428 (26M)\n",
            "Saving to: ‘sun20_48x48_train.pth’\n",
            "\n",
            "sun20_48x48_train.p 100%[===================>]  26.37M  44.9MB/s    in 0.6s    \n",
            "\n",
            "2020-02-03 20:08:49 (44.9 MB/s) - ‘sun20_48x48_train.pth’ saved [27648428/27648428]\n",
            "\n",
            "--2020-02-03 20:08:50--  http://vicenteordonez.com/deeplearning/dataset.py\n",
            "Resolving vicenteordonez.com (vicenteordonez.com)... 192.30.252.153, 192.30.252.154\n",
            "Connecting to vicenteordonez.com (vicenteordonez.com)|192.30.252.153|:80... connected.\n",
            "HTTP request sent, awaiting response... 200 OK\n",
            "Length: 1143 (1.1K) [application/octet-stream]\n",
            "Saving to: ‘dataset.py’\n",
            "\n",
            "dataset.py          100%[===================>]   1.12K  --.-KB/s    in 0s      \n",
            "\n",
            "2020-02-03 20:08:50 (136 MB/s) - ‘dataset.py’ saved [1143/1143]\n",
            "\n"
          ],
          "name": "stdout"
        }
      ]
    },
    {
      "cell_type": "code",
      "metadata": {
        "id": "S0NK1iPvRLNK",
        "colab_type": "code",
        "outputId": "c206f832-dca2-4cdf-b01d-4bd09ce57554",
        "colab": {
          "base_uri": "https://localhost:8080/",
          "height": 299
        }
      },
      "source": [
        "import torch, torchvision, matplotlib\n",
        "import matplotlib.pyplot as plt\n",
        "import torchvision.transforms as transforms\n",
        "import torchvision.transforms.functional as F\n",
        "import dataset\n",
        "\n",
        "image_index = 122  # Feel free to change this.\n",
        "\n",
        "# 20 scene categories from the SUN397 dataset.\n",
        "classes = ['airport_terminal', 'arch', 'bathroom', 'butte', 'castle', \n",
        "           'classroom', 'dentists_office', 'hot_spring', 'jacuzzi', \n",
        "           'laundromat', 'lecture_room', 'lighthouse', 'mountain', \n",
        "           'sauna', 'server_room', 'shower', 'skyscraper', 'tower',\n",
        "           'tree_house', 'volcano']\n",
        "\n",
        "trainset = dataset.SUN20(split = 'train')\n",
        "valset = dataset.SUN20(split = 'validation')\n",
        "\n",
        "# 1. Datasets need to implement the __len__ method for this to work.\n",
        "print('This dataset has {0} training images'.format(len(trainset)))\n",
        "\n",
        "# 2. Datasets need to implement the  __getitem__ method for this to work.\n",
        "img, label = trainset[image_index]  # Returns image and label.\n",
        "\n",
        "img = F.to_tensor(img)\n",
        "\n",
        "print('Image {0} is a {1}'.format(image_index, classes[label]))\n",
        "print('Image size is {0}x{1}x{2}'.format(img.shape[0], img.shape[1], img.shape[2]))\n",
        "# All images have 1 channel x 28 rows x 28 columns.\n",
        "\n",
        "plt.figure()\n",
        "plt.imshow(img.transpose(0,2).transpose(0,1));\n",
        "plt.grid(False); plt.axis('off')\n",
        "plt.show()"
      ],
      "execution_count": 21,
      "outputs": [
        {
          "output_type": "stream",
          "text": [
            "This dataset has 1000 training images\n",
            "Image 122 is a tree_house\n",
            "Image size is 3x48x48\n"
          ],
          "name": "stdout"
        },
        {
          "output_type": "display_data",
          "data": {
            "image/png": "[encoded data removed]",
            "text/plain": [
              "<Figure size 432x288 with 1 Axes>"
            ]
          },
          "metadata": {
            "tags": []
          }
        }
      ]
    },
    {
      "cell_type": "code",
      "metadata": {
        "id": "uJGswoBqTltA",
        "colab_type": "code",
        "colab": {
          "base_uri": "https://localhost:8080/",
          "height": 1000
        },
        "outputId": "feac7859-caa5-45f0-dd3d-5561db580b6e"
      },
      "source": [
        "# Your code.\n",
        "# Use provided softmax classifier:\n",
        "# Define a learning rate. \n",
        "learningRate = 1e-4\n",
        "\n",
        "# Define number of epochs.\n",
        "N = 30\n",
        "\n",
        "# Initialize bias and weight with random values again.\n",
        "weight = torch.empty(20, 3 * 48 * 48).normal_(0, 0.01)\n",
        "bias = torch.zeros(20, 1)\n",
        "\n",
        "# log accuracies and losses.\n",
        "train_accuracies = []; val_accuracies = []\n",
        "train_losses = []; val_losses = []\n",
        "\n",
        "# Training loop. Please make sure you understand every single line of code below.\n",
        "# Go back to some of the previous steps in this lab if necessary.\n",
        "for epoch in range(0, N):\n",
        "    correct = 0.0\n",
        "    cum_loss = 0.0\n",
        "    \n",
        "    # Make a pass over the training data.\n",
        "    for (i, (img, label)) in enumerate(trainset):\n",
        "        x = F.to_tensor(img)\n",
        "        x = x.view(3 * 48 * 48, 1) # Added by Mustafa: color image 48x48\n",
        "        \n",
        "        # Forward pass. (Prediction stage)\n",
        "        predictions = softmax(linear(x, weight, bias))\n",
        "        cum_loss += loss(label, predictions).item()\n",
        "        max_score, max_label = predictions.max(0)\n",
        "        if max_label[0] == label: correct += 1\n",
        "        \n",
        "        #Backward pass. (Gradient computation stage)\n",
        "        gradOutput = loss_softmax_backward(label, predictions)\n",
        "        gradWeight, gradBias = linear_backward(x, weight, bias, gradOutput)\n",
        "        \n",
        "        # Parameter updates.\n",
        "        weight.add_(-learningRate, gradWeight)\n",
        "        bias.add_(-learningRate, gradBias)\n",
        "        \n",
        "        # Logging the current results on training.\n",
        "        if (i + 1) % 500 == 0:\n",
        "            print('Train-epoch %d. Iteration %05d, Avg-Loss: %.4f, Accuracy: %.4f' % \n",
        "                  (epoch, i + 1, cum_loss / (i + 1), correct / (i + 1)))\n",
        "    \n",
        "    train_accuracies.append(correct / len(trainset))\n",
        "    train_losses.append(cum_loss / len(trainset))\n",
        "    \n",
        "    \n",
        "    # Make a pass over the validation data.\n",
        "    correct = 0.0\n",
        "    cum_loss = 0.0\n",
        "    for (i, (img, label)) in enumerate(valset):\n",
        "        x = F.to_tensor(img)\n",
        "        x = x.view(3 * 48 * 48, 1) # Added by Mustafa: color image 48x48\n",
        "        \n",
        "        # Forward pass. (Prediction stage)\n",
        "        predictions = softmax(linear(x, weight, bias))\n",
        "        cum_loss += loss(label, predictions).item()\n",
        "        max_score, max_label = predictions.max(0)\n",
        "        if max_label[0] == label: correct += 1\n",
        "          \n",
        "          \n",
        "    val_accuracies.append(correct / len(valset))\n",
        "    val_losses.append(cum_loss / len(valset))\n",
        "            \n",
        "    # Logging the current results on validation.\n",
        "    print('Validation-epoch %d. Avg-Loss: %.4f, Accuracy: %.4f' % \n",
        "          (epoch, cum_loss / len(valset), correct / len(valset)))\n",
        "\n"
      ],
      "execution_count": 24,
      "outputs": [
        {
          "output_type": "stream",
          "text": [
            "Train-epoch 0. Iteration 01000, Avg-Loss: 2.9845, Accuracy: 0.0610\n",
            "Validation-epoch 0. Avg-Loss: 2.9160, Accuracy: 0.0920\n",
            "Train-epoch 1. Iteration 01000, Avg-Loss: 2.8562, Accuracy: 0.1170\n",
            "Validation-epoch 1. Avg-Loss: 2.8296, Accuracy: 0.1490\n",
            "Train-epoch 2. Iteration 01000, Avg-Loss: 2.7627, Accuracy: 0.1470\n",
            "Validation-epoch 2. Avg-Loss: 2.7672, Accuracy: 0.1910\n",
            "Train-epoch 3. Iteration 01000, Avg-Loss: 2.6905, Accuracy: 0.1830\n",
            "Validation-epoch 3. Avg-Loss: 2.7204, Accuracy: 0.1970\n",
            "Train-epoch 4. Iteration 01000, Avg-Loss: 2.6324, Accuracy: 0.2090\n",
            "Validation-epoch 4. Avg-Loss: 2.6843, Accuracy: 0.2050\n",
            "Train-epoch 5. Iteration 01000, Avg-Loss: 2.5841, Accuracy: 0.2150\n",
            "Validation-epoch 5. Avg-Loss: 2.6555, Accuracy: 0.2130\n",
            "Train-epoch 6. Iteration 01000, Avg-Loss: 2.5428, Accuracy: 0.2230\n",
            "Validation-epoch 6. Avg-Loss: 2.6320, Accuracy: 0.2190\n",
            "Train-epoch 7. Iteration 01000, Avg-Loss: 2.5065, Accuracy: 0.2340\n",
            "Validation-epoch 7. Avg-Loss: 2.6123, Accuracy: 0.2210\n",
            "Train-epoch 8. Iteration 01000, Avg-Loss: 2.4741, Accuracy: 0.2400\n",
            "Validation-epoch 8. Avg-Loss: 2.5957, Accuracy: 0.2240\n",
            "Train-epoch 9. Iteration 01000, Avg-Loss: 2.4448, Accuracy: 0.2480\n",
            "Validation-epoch 9. Avg-Loss: 2.5815, Accuracy: 0.2260\n",
            "Train-epoch 10. Iteration 01000, Avg-Loss: 2.4179, Accuracy: 0.2550\n",
            "Validation-epoch 10. Avg-Loss: 2.5691, Accuracy: 0.2210\n",
            "Train-epoch 11. Iteration 01000, Avg-Loss: 2.3929, Accuracy: 0.2690\n",
            "Validation-epoch 11. Avg-Loss: 2.5582, Accuracy: 0.2200\n",
            "Train-epoch 12. Iteration 01000, Avg-Loss: 2.3697, Accuracy: 0.2780\n",
            "Validation-epoch 12. Avg-Loss: 2.5486, Accuracy: 0.2210\n",
            "Train-epoch 13. Iteration 01000, Avg-Loss: 2.3478, Accuracy: 0.2840\n",
            "Validation-epoch 13. Avg-Loss: 2.5401, Accuracy: 0.2230\n",
            "Train-epoch 14. Iteration 01000, Avg-Loss: 2.3272, Accuracy: 0.2890\n",
            "Validation-epoch 14. Avg-Loss: 2.5324, Accuracy: 0.2250\n",
            "Train-epoch 15. Iteration 01000, Avg-Loss: 2.3076, Accuracy: 0.2980\n",
            "Validation-epoch 15. Avg-Loss: 2.5256, Accuracy: 0.2270\n",
            "Train-epoch 16. Iteration 01000, Avg-Loss: 2.2889, Accuracy: 0.3050\n",
            "Validation-epoch 16. Avg-Loss: 2.5194, Accuracy: 0.2270\n",
            "Train-epoch 17. Iteration 01000, Avg-Loss: 2.2711, Accuracy: 0.3130\n",
            "Validation-epoch 17. Avg-Loss: 2.5138, Accuracy: 0.2260\n",
            "Train-epoch 18. Iteration 01000, Avg-Loss: 2.2539, Accuracy: 0.3170\n",
            "Validation-epoch 18. Avg-Loss: 2.5087, Accuracy: 0.2270\n",
            "Train-epoch 19. Iteration 01000, Avg-Loss: 2.2375, Accuracy: 0.3240\n",
            "Validation-epoch 19. Avg-Loss: 2.5041, Accuracy: 0.2260\n",
            "Train-epoch 20. Iteration 01000, Avg-Loss: 2.2216, Accuracy: 0.3260\n",
            "Validation-epoch 20. Avg-Loss: 2.4998, Accuracy: 0.2260\n",
            "Train-epoch 21. Iteration 01000, Avg-Loss: 2.2063, Accuracy: 0.3350\n",
            "Validation-epoch 21. Avg-Loss: 2.4960, Accuracy: 0.2280\n",
            "Train-epoch 22. Iteration 01000, Avg-Loss: 2.1914, Accuracy: 0.3400\n",
            "Validation-epoch 22. Avg-Loss: 2.4924, Accuracy: 0.2300\n",
            "Train-epoch 23. Iteration 01000, Avg-Loss: 2.1770, Accuracy: 0.3490\n",
            "Validation-epoch 23. Avg-Loss: 2.4892, Accuracy: 0.2290\n",
            "Train-epoch 24. Iteration 01000, Avg-Loss: 2.1631, Accuracy: 0.3520\n",
            "Validation-epoch 24. Avg-Loss: 2.4862, Accuracy: 0.2320\n",
            "Train-epoch 25. Iteration 01000, Avg-Loss: 2.1495, Accuracy: 0.3570\n",
            "Validation-epoch 25. Avg-Loss: 2.4835, Accuracy: 0.2350\n",
            "Train-epoch 26. Iteration 01000, Avg-Loss: 2.1363, Accuracy: 0.3600\n",
            "Validation-epoch 26. Avg-Loss: 2.4810, Accuracy: 0.2350\n",
            "Train-epoch 27. Iteration 01000, Avg-Loss: 2.1234, Accuracy: 0.3680\n",
            "Validation-epoch 27. Avg-Loss: 2.4787, Accuracy: 0.2350\n",
            "Train-epoch 28. Iteration 01000, Avg-Loss: 2.1109, Accuracy: 0.3700\n",
            "Validation-epoch 28. Avg-Loss: 2.4766, Accuracy: 0.2360\n",
            "Train-epoch 29. Iteration 01000, Avg-Loss: 2.0986, Accuracy: 0.3740\n",
            "Validation-epoch 29. Avg-Loss: 2.4747, Accuracy: 0.2360\n"
          ],
          "name": "stdout"
        }
      ]
    },
    {
      "cell_type": "code",
      "metadata": {
        "id": "ZqRP2aklZc10",
        "colab_type": "code",
        "colab": {
          "base_uri": "https://localhost:8080/",
          "height": 588
        },
        "outputId": "1c94cd13-09a0-42a8-ca9e-d47ddf0b292b"
      },
      "source": [
        "# Now predict the category for one image using the trained classifier.\n",
        "\n",
        "# Initialize bias and weight with random values again.\n",
        "weight = torch.empty(20, 3 * 48 * 48).normal_(0, 0.01)\n",
        "bias = torch.zeros(20, 1)\n",
        "\n",
        "img, label = trainset[image_index]\n",
        "img = F.to_tensor(img)\n",
        "x = img.view(3 * 48 * 48, 1)\n",
        "a = linear(x, weight, bias)\n",
        "predictions = a  # no softmax, the raw outputs are the prediction scores.\n",
        "\n",
        "# Show the results of the classifier.\n",
        "# Display the image.\n",
        "plt.figure()\n",
        "plt.imshow(img.transpose(0,2).transpose(0,1));\n",
        "plt.grid(False); plt.axis('off')\n",
        "plt.show()\n",
        "max_score, max_label = predictions.max(0)\n",
        "for (i, pred) in enumerate(predictions.squeeze().tolist()):\n",
        "    print('y_hat[%s] = %.2f' % (classes[i], pred))"
      ],
      "execution_count": 25,
      "outputs": [
        {
          "output_type": "display_data",
          "data": {
            "image/png": "[encoded data removed]",
            "text/plain": [
              "<Figure size 432x288 with 1 Axes>"
            ]
          },
          "metadata": {
            "tags": []
          }
        },
        {
          "output_type": "stream",
          "text": [
            "y_hat[airport_terminal] = -0.23\n",
            "y_hat[arch] = 0.12\n",
            "y_hat[bathroom] = 0.26\n",
            "y_hat[butte] = 0.26\n",
            "y_hat[castle] = 0.05\n",
            "y_hat[classroom] = -0.30\n",
            "y_hat[dentists_office] = 0.20\n",
            "y_hat[hot_spring] = -0.47\n",
            "y_hat[jacuzzi] = 0.11\n",
            "y_hat[laundromat] = -0.11\n",
            "y_hat[lecture_room] = 0.28\n",
            "y_hat[lighthouse] = -0.30\n",
            "y_hat[mountain] = 0.05\n",
            "y_hat[sauna] = 0.26\n",
            "y_hat[server_room] = 0.35\n",
            "y_hat[shower] = -0.38\n",
            "y_hat[skyscraper] = -0.22\n",
            "y_hat[tower] = -0.04\n",
            "y_hat[tree_house] = 0.08\n",
            "y_hat[volcano] = 0.36\n"
          ],
          "name": "stdout"
        }
      ]
    },
    {
      "cell_type": "code",
      "metadata": {
        "id": "fiGMFreJYj8Q",
        "colab_type": "code",
        "colab": {
          "base_uri": "https://localhost:8080/",
          "height": 279
        },
        "outputId": "ead7b96d-143b-46fa-ca8b-228a89df0029"
      },
      "source": [
        "# Your code for visualizing train/val plots for accuracy and losses.\n",
        "plt.figure(figsize = (10, 4))\n",
        "plt.subplot(1, 2, 1)\n",
        "plt.plot(val_losses, 'bo-', label = 'val-loss')\n",
        "plt.plot(train_losses, 'ro-', label = 'train-loss')\n",
        "plt.grid('on')\n",
        "plt.ylabel('loss')\n",
        "plt.xlabel('epoch')\n",
        "plt.legend(['validation', 'training'], loc='upper right')\n",
        "\n",
        "plt.subplot(1, 2, 2)\n",
        "plt.plot(val_accuracies, 'bo-', label = 'val-acc')\n",
        "plt.plot(train_accuracies, 'ro-', label = 'train-acc')\n",
        "plt.ylabel('accuracy')\n",
        "plt.grid('on')\n",
        "plt.xlabel('epoch')\n",
        "plt.legend(['validation', 'training'], loc='lower right')\n",
        "plt.show()"
      ],
      "execution_count": 26,
      "outputs": [
        {
          "output_type": "display_data",
          "data": {
            "image/png": "[encoded data removed]",
            "text/plain": [
              "<Figure size 720x288 with 2 Axes>"
            ]
          },
          "metadata": {
            "tags": []
          }
        }
      ]
    },
    {
      "cell_type": "markdown",
      "metadata": {
        "id": "QYTFXtXNaGFE",
        "colab_type": "text"
      },
      "source": [
        "(3) A written paragraph analyzing the training/validation curves, did the model overfit or underfit? what can be done to improve the accuracy but keeping the model as-is? [10pts].\n",
        "\n",
        "As the number of training epochs increases, loss goes down and accuracy increases. The model overfits to the training data as exemplified by the fact that after a certain point, the accuracy on the training dataset continues to increase, while the accuracy on the validation set stagnates. Many different approaches can be used to improve accuracy. Namely, we can apply early-stopping. This will ensure that we are not overfitting to the training data. We can also apply regularization to prevent overfitting. We also have a small training set. We can try to find additional data or artificillay create data by augmenting the dataset we have by applying label-preserving transformations. Another approach could be ensemble learning, where we could train different models and exploit the diversity among them. Finally, hyperparameter tuning using a grid search may result in some improvements."
      ]
    },
    {
      "cell_type": "markdown",
      "metadata": {
        "id": "3m-9F6pE3Hne",
        "colab_type": "text"
      },
      "source": [
        "### Appendix: Finding the derivative of the loss with respect to activations $\\frac{\\partial \\ell}{\\partial a_i}$\n"
      ]
    },
    {
      "cell_type": "markdown",
      "metadata": {
        "id": "scwdy3RC3Plx",
        "colab_type": "text"
      },
      "source": [
        "This is the task:\n",
        "$$\\frac{\\partial}{\\partial a_{i}}\\Big[-\\text{log}\\Big(\\frac{\\text{exp}(a_{label})}{\\sum_{k=1}^{10}{\\text{exp}(a_k)}}\\Big)\\Big] =\n",
        "\\frac{\\partial}{\\partial a_{i}}\\Big[\\text{log}(\\sum_{k=1}^{10}{\\text{exp}(a_k)})- a_{label}\\Big]$$\n",
        "\n",
        "How do we compute the derivatives of the loss function $\\ell$ with respect to the variables $a_i$? There are two cases to consider 1) Derivative with respect to $a_{label}$ and derivative with respect to activations $a_i$ where $i\\neq class$. \n",
        "\n",
        "Let's start considering the first case when $i = label$:\n",
        "\n",
        "$$\\frac{\\partial \\ell}{\\partial a_{label}} = \\frac{\\partial}{\\partial a_{label}}\\Big[\\text{log}(\\sum_{k=1}^{10}{\\text{exp}(a_k)} - a_{label})\\Big]$$\n",
        "\n",
        "$$\\frac{\\partial \\ell}{\\partial a_{label}} = \\frac{\\partial}{\\partial a_{label}}\\text{log}(\\sum_{k=1}^{10}{\\text{exp}(a_k)}) - 1$$\n",
        "\n",
        "$$\\frac{\\partial \\ell}{\\partial a_{label}} =\\Big(\\frac{1}{\\sum_{k=1}^{10}{\\text{exp}(a_k)}}\\Big)\\Big(\\frac{\\partial}{\\partial a_{label}}\\sum_{k=1}^{10}{\\text{exp}(a_k)}\\Big) - 1$$\n",
        "\n",
        "$$\\frac{\\partial \\ell}{\\partial a_{label}} = \\frac{\\text{exp}(a_{label})}{\\sum_{k=1}^{10}{\\text{exp}(a_k)}} - 1$$\n",
        "\n",
        "$$\\frac{\\partial \\ell}{\\partial a_{label}}= \\hat{y}_{label} - 1 $$\n",
        "\n",
        "Now let's compute the second case when $i \\neq label$:\n",
        "\n",
        "$$\\frac{\\partial \\ell}{\\partial a_{i}} = \\frac{\\partial}{\\partial a_{i}}\\Big[\\text{log}(\\sum_{k=1}^{10}{\\text{exp}(a_k)}) - a_{label}\\Big]$$\n",
        "\n",
        "$$\\frac{\\partial \\ell}{\\partial a_{i}} = \\frac{\\partial}{\\partial a_{i}}\\text{log}(\\sum_{k=1}^{10}{\\text{exp}(a_k)})$$\n",
        "\n",
        "$$\\frac{\\partial \\ell}{\\partial a_{i}} =\\Big(\\frac{1}{\\sum_{k=1}^{10}{\\text{exp}(a_k)}}\\Big)\\Big(\\frac{\\partial}{\\partial a_{i}}\\sum_{k=1}^{10}{\\text{exp}(a_k)}\\Big)$$\n",
        "\n",
        "$$\\frac{\\partial \\ell}{\\partial a_{i}} = \\frac{\\text{exp}(a_{i})}{\\sum_{k=1}^{10}{\\text{exp}(a_k)}}$$\n",
        "\n",
        "$$\\frac{\\partial \\ell}{\\partial a_{i}} =\\hat{y}_{i}$$\n",
        "\n",
        "We can put both derivatives together using an indicator function which takes the value of 1 only when the condition inside the bracket is true:\n",
        "\n",
        "$$\\frac{\\partial \\ell}{\\partial a_{i}} = \\hat{y}_{i} - \\mathbb{1}[j = label]$$\n",
        "\n",
        "Also by remembering that we had earlier defined $y$ as the ground truth vector containing all zeros except at $y_{label}$, where it contains a 1, we can also simply write:\n",
        "\n",
        "$$\\frac{\\partial \\ell}{\\partial a_{i}} = \\hat{y}_{i} - y_i$$"
      ]
    }
  ]
}