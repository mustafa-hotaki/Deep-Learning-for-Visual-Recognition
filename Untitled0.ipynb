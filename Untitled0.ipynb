{
  "nbformat": 4,
  "nbformat_minor": 0,
  "metadata": {
    "colab": {
      "name": "Untitled0.ipynb",
      "provenance": [],
      "authorship_tag": "ABX9TyNVUaKR8gks7xyvOW9mUbAq",
      "include_colab_link": true
    },
    "kernelspec": {
      "name": "python3",
      "display_name": "Python 3"
    }
  },
  "cells": [
    {
      "cell_type": "markdown",
      "metadata": {
        "id": "view-in-github",
        "colab_type": "text"
      },
      "source": [
        "<a href=\"https://colab.research.google.com/github/mustafa-hotaki/Deep-Learning-for-Visual-Recognition/blob/master/Untitled0.ipynb\" target=\"_parent\"><img src=\"https://colab.research.google.com/assets/colab-badge.svg\" alt=\"Open In Colab\"/></a>"
      ]
    },
    {
      "cell_type": "markdown",
      "metadata": {
        "id": "KnqDpGeReLEb",
        "colab_type": "text"
      },
      "source": [
        "# World's Biggest Data Breaches & Hacks Analysis\n",
        "The data is found on this webpage [https://www.informationisbeautiful.net/visualizations/worlds-biggest-data-breaches-hacks/](https://www.informationisbeautiful.net/visualizations/worlds-biggest-data-breaches-hacks/)\n",
        "\n",
        "The website allows for us to download a CSV version of the data. We have cleaned the data by removing columns that were problematic (e.g., those with a lot of missing information) or were irrelevant for our analysis (e.g., links to articles)."
      ]
    },
    {
      "cell_type": "code",
      "metadata": {
        "id": "s2Fbt2BYd-KY",
        "colab_type": "code",
        "colab": {
          "base_uri": "https://localhost:8080/",
          "height": 204
        },
        "outputId": "f26a41fd-e95a-423c-df06-4c5e1a199435"
      },
      "source": [
        "# Read data with Python\n",
        "import pandas as pd\n",
        "df = pd.read_csv(\"visualisation-data.csv\")\n",
        "df.head()"
      ],
      "execution_count": 1,
      "outputs": [
        {
          "output_type": "execute_result",
          "data": {
            "text/html": [
              "<div>\n",
              "<style scoped>\n",
              "    .dataframe tbody tr th:only-of-type {\n",
              "        vertical-align: middle;\n",
              "    }\n",
              "\n",
              "    .dataframe tbody tr th {\n",
              "        vertical-align: top;\n",
              "    }\n",
              "\n",
              "    .dataframe thead th {\n",
              "        text-align: right;\n",
              "    }\n",
              "</style>\n",
              "<table border=\"1\" class=\"dataframe\">\n",
              "  <thead>\n",
              "    <tr style=\"text-align: right;\">\n",
              "      <th></th>\n",
              "      <th>Entity</th>\n",
              "      <th>records lost</th>\n",
              "      <th>YEAR</th>\n",
              "      <th>story</th>\n",
              "      <th>SECTOR</th>\n",
              "      <th>METHOD</th>\n",
              "    </tr>\n",
              "  </thead>\n",
              "  <tbody>\n",
              "    <tr>\n",
              "      <th>0</th>\n",
              "      <td>AIS</td>\n",
              "      <td>8.000000e+09</td>\n",
              "      <td>2020</td>\n",
              "      <td>May 2025. Data relating to internet use was av...</td>\n",
              "      <td>telecoms</td>\n",
              "      <td>poor security</td>\n",
              "    </tr>\n",
              "    <tr>\n",
              "      <th>1</th>\n",
              "      <td>Nintendo</td>\n",
              "      <td>3.000000e+05</td>\n",
              "      <td>2020</td>\n",
              "      <td>Apr 2020. Unauthorised access to thousands of ...</td>\n",
              "      <td>gaming</td>\n",
              "      <td>hacked</td>\n",
              "    </tr>\n",
              "    <tr>\n",
              "      <th>2</th>\n",
              "      <td>Pakistani mobile operators</td>\n",
              "      <td>1.150000e+08</td>\n",
              "      <td>2020</td>\n",
              "      <td>Apr 2020. Personal details stolen from Jazz an...</td>\n",
              "      <td>telecoms</td>\n",
              "      <td>hacked</td>\n",
              "    </tr>\n",
              "    <tr>\n",
              "      <th>3</th>\n",
              "      <td>US Marshals Service</td>\n",
              "      <td>3.870000e+05</td>\n",
              "      <td>2020</td>\n",
              "      <td>May 2020. Prisoners had sensitive personal dat...</td>\n",
              "      <td>government</td>\n",
              "      <td>hacked</td>\n",
              "    </tr>\n",
              "    <tr>\n",
              "      <th>4</th>\n",
              "      <td>db8151dd</td>\n",
              "      <td>2.200000e+07</td>\n",
              "      <td>2020</td>\n",
              "      <td>May 2020. Aggregated data from multiple websit...</td>\n",
              "      <td>web</td>\n",
              "      <td>hacked</td>\n",
              "    </tr>\n",
              "  </tbody>\n",
              "</table>\n",
              "</div>"
            ],
            "text/plain": [
              "                       Entity  records lost  ...      SECTOR         METHOD\n",
              "0                         AIS  8.000000e+09  ...    telecoms  poor security\n",
              "1                    Nintendo  3.000000e+05  ...      gaming         hacked\n",
              "2  Pakistani mobile operators  1.150000e+08  ...    telecoms         hacked\n",
              "3         US Marshals Service  3.870000e+05  ...  government         hacked\n",
              "4                    db8151dd  2.200000e+07  ...         web         hacked\n",
              "\n",
              "[5 rows x 6 columns]"
            ]
          },
          "metadata": {
            "tags": []
          },
          "execution_count": 1
        }
      ]
    },
    {
      "cell_type": "markdown",
      "metadata": {
        "id": "jDoPw8vkg1I_",
        "colab_type": "text"
      },
      "source": [
        "## 13. At the top of the graphic, click **Method of Leak** so that the bubbles display how the leak occurred. Which type of leak is the most common? Why do you think this is the case?\n",
        "\n",
        "Unfortunately, the current graphic does not allow for visualzing all methods of leak in one page. We can look at the method individually and compare. Alternatively, we can plot the frequneies of cases by the method of leak below:"
      ]
    },
    {
      "cell_type": "code",
      "metadata": {
        "id": "zDFv7JZzeXWZ",
        "colab_type": "code",
        "colab": {
          "base_uri": "https://localhost:8080/",
          "height": 338
        },
        "outputId": "2cbb1d64-10fc-45ab-c5b6-58cefa90a175"
      },
      "source": [
        "# Plot top 7 categories with their frequncies\n",
        "df['METHOD'].value_counts()[:7].plot(kind='bar')"
      ],
      "execution_count": 2,
      "outputs": [
        {
          "output_type": "execute_result",
          "data": {
            "text/plain": [
              "<matplotlib.axes._subplots.AxesSubplot at 0x7f7092445c50>"
            ]
          },
          "metadata": {
            "tags": []
          },
          "execution_count": 2
        },
        {
          "output_type": "display_data",
          "data": {
            "image/png": "[encoded data removed]",
            "text/plain": [
              "<Figure size 432x288 with 1 Axes>"
            ]
          },
          "metadata": {
            "tags": [],
            "needs_background": "light"
          }
        }
      ]
    },
    {
      "cell_type": "markdown",
      "metadata": {
        "id": "JdDgOIj_f4hq",
        "colab_type": "text"
      },
      "source": [
        "The plot above shows that the \"Hacked\" category is the most common category in terms of number of seperate cases. It could be argued that these categories are not mutually exclusive. Of particular interest to us is the distinction between \"Hacked\" and \"Poor Security.\" We assume that in the \"Hacked\" category refers to cases where an active party attacked a system and caused data breach. We assert that this is due to the fact that many threat actors motivated by financial or political motives. All the other categories, except for \"inside job\" are passive categories, where a system was either poorly designed or human error lead to data breach."
      ]
    },
    {
      "cell_type": "markdown",
      "metadata": {
        "id": "uFeibEI6jALN",
        "colab_type": "text"
      },
      "source": [
        "# 14. Create your own filters to view different types of breaches. Does this graphic convey a better story than the textual data in the previous project?"
      ]
    },
    {
      "cell_type": "markdown",
      "metadata": {
        "id": "gOJ4hlS8ku6u",
        "colab_type": "text"
      },
      "source": [
        "For our own filter, we want to again break down the breaches by method of leak, but this time, we wish to see the total number lost records for each method.\n"
      ]
    },
    {
      "cell_type": "code",
      "metadata": {
        "id": "bso8te9_jELY",
        "colab_type": "code",
        "colab": {
          "base_uri": "https://localhost:8080/",
          "height": 371
        },
        "outputId": "baea08a0-f5ef-4ade-e426-2b351a6ae34c"
      },
      "source": [
        "df.groupby('METHOD')['records lost'].sum().sort_values()[::-1][:7].plot(kind='bar')"
      ],
      "execution_count": 3,
      "outputs": [
        {
          "output_type": "execute_result",
          "data": {
            "text/plain": [
              "<matplotlib.axes._subplots.AxesSubplot at 0x7f7091ee0470>"
            ]
          },
          "metadata": {
            "tags": []
          },
          "execution_count": 3
        },
        {
          "output_type": "display_data",
          "data": {
            "image/png": "[encoded data removed]",
            "text/plain": [
              "<Figure size 432x288 with 1 Axes>"
            ]
          },
          "metadata": {
            "tags": [],
            "needs_background": "light"
          }
        }
      ]
    },
    {
      "cell_type": "markdown",
      "metadata": {
        "id": "XpYDoc8HwYb5",
        "colab_type": "text"
      },
      "source": [
        "The above plot shows that \"poor security\" accounts for far more records lost than the other categories. This is in contrast to the previous plot that showed that this dataset had more cases of \"hacking\". We conclude that although there are more \"hacking\" cases, \"poor security\" leads to far more data being breached.\n"
      ]
    },
    {
      "cell_type": "code",
      "metadata": {
        "id": "nuQnjE71xhFE",
        "colab_type": "code",
        "colab": {}
      },
      "source": [
        ""
      ],
      "execution_count": 3,
      "outputs": []
    }
  ]
}